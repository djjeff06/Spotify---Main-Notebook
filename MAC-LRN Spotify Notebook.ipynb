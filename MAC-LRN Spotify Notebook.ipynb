{
 "cells": [
  {
   "cell_type": "markdown",
   "metadata": {},
   "source": [
    "<b>Basic Flow</b>\n",
    "- Background of task and data\n",
    "- Summary of technique used\n",
    "- Simple data analysis (show of original data features)\n",
    "- Preprocessing\n",
    "- Feature Extraction (no feature extraction since the features are already given from the second data set)"
   ]
  },
  {
   "cell_type": "markdown",
   "metadata": {},
   "source": [
    "<b>Background and Related Works</b>\n",
    "\n",
    "In recent years, music revenue in the United States has seen substantial growth. In 2017, revenues from recorded music in the United States increased 16.5% at estimated retail value to $8.7 billion, continuing the growth from the previous year. Paid subscriptions from streaming services like Spotify and Apple Music were the biggest growth driver for the music industry in 2017. The revenues from streaming platforms made up 65% of total industry revenues. [1] Online streaming can now be seen as \n",
    "the new norm for accessing and distributing music. Therefore, having a fundamental understanding of what makes a song popular \n",
    "has major implications to musicians and record labels that thrive on stream count and song popularity. \n",
    "\n",
    "The ability to make accurate predictions of song popularity could be achieved through the use of machine learning techniques. \n",
    "\n",
    "Pham, Kyauk and Park used both acoustic features and metadata to create both classification and predictive models, to determine \n",
    "if whether or not the song is popular or in the case of the latter, predict the popularity score. Upon applying SVMs, neural \n",
    "networks and logistic regression for classification, SVM (Gaussian kernel) yielded the highest F1 score. As for regression, \n",
    "they fitted the models using a standard multiple linear regression, and applied feature selection methods to achieve the best \n",
    "coefficient estimates for regression.it was Logistic Lasso regression that yielded the smallest test error. The research \n",
    "concluded that the acoustic features aren’t nearly as predicative as the metadata features. A likely reason for this is that \n",
    "there is a lot of variation in acoustic features within a single song that make it difficult to extract metrics that represent \n",
    "an entire song.[2]"
   ]
  },
  {
   "cell_type": "markdown",
   "metadata": {},
   "source": [
    "<b>Objective</b>\n",
    "\n",
    "Determine the popularity of a song based on the given audio features with a value of 1 for popular and 0 for unpopular."
   ]
  },
  {
   "cell_type": "markdown",
   "metadata": {},
   "source": [
    "<b> Machine Learning Techniques</b>\n",
    "\n",
    "A. Classification:<br>\n",
    "1. Naive Bayes<br>\n",
    "2. SVM<br>\n",
    "3. Decision Tree<br>\n",
    "4. Logistic Regression<br>\n",
    "5. KNN"
   ]
  },
  {
   "cell_type": "markdown",
   "metadata": {},
   "source": [
    "<b>Description of the Data</b>\n",
    "\n",
    "This research uses data from two Kaggle datasets, namely Spotify’s Worldwide Daily Song Ranking [1] and Top Spotify Tracks of 2017 [2]. The former is a collection of Spotify’s most streamed songs in different regions across the world for each day of 2017. Each row contains a ranking position on a specific day and region. There are roughly 200 entries per day for each region, however be aware that some of Spotify's data was missing in very few occasions. Due to this, the researchers have only focused on the streams (stream count) column for each entry. The latter is a collection of the audio features of the songs found in the Top Spotify Tracks of 2017 playlist in Spotify. Aside from the song title, artist and song url, each song is given values for 13 audio features listed and defined by Spotify API below.\n",
    "\n",
    "<table>\n",
    "  <tr>\n",
    "    <th>Feature</th>\n",
    "    <th>Description</th> \n",
    "  </tr>\n",
    "  <tr>\n",
    "    <td>Danceability</td>\n",
    "    <td>Describes how suitable a track is for dancing based on a combination of musical elements<br> including tempo, rhythm stability, beat strength, and overall regularity. A value of 0.0 is<br> least danceable and 1.0 is most danceable.</td> \n",
    "  </tr>\n",
    "  <tr>\n",
    "    <td>Energy</td>\n",
    "    <td>A measure from 0.0 to 1.0 and represents a perceptual measure of intensity and activity. <br>Typically, energetic tracks feel fast, loud, and noisy. For example, death metal has high<br> energy, while a Bach prelude scores low on the scale. Perceptual features contributing<br> to this attribute include dynamic range, perceived loudness, timbre, onset rate,<br> and general entropy.</td> \n",
    "  </tr>\n",
    "</table>"
   ]
<<<<<<< HEAD
  },
  {
   "cell_type": "markdown",
   "metadata": {},
   "source": [
    "Shown below is the hard-coded table (since file size is extremely large) of the first 5 rows of the Spotify’s Worldwide Daily Song Ranking dataset. For reference, you can view the entire dataset here: https://www.kaggle.com/edumucelli/spotifys-worldwide-daily-song-ranking/data\n",
    "\n",
    "<table>\n",
    "  <tr>\n",
    "    <th>Position</th>\n",
    "    <th>Track Name</th>\n",
    "    <th>Artist</th>\n",
    "    <th>Streams</th> \n",
    "    <th>URL</th>\n",
    "    <th>Date</th>\n",
    "    <th>Region</th> \n",
    "  </tr>\n",
    "  <tr>\n",
    "    <td>1</td>\n",
    "    <td>Reggaetón Lento (Bailemos)</td>\n",
    "    <td>CNCO</td>\n",
    "    <td>19272</td> \n",
    "    <td>https://open.spotify.com/track/3AEZUABDXNtecAOSC1qTfo</td>\n",
    "    <td>2017-01-01</td>\n",
    "    <td>ec</td>\n",
    "  </tr>\n",
    "  <tr>\n",
    "    <td>2</td>\n",
    "    <td>Chantaje</td>\n",
    "    <td>Shakira</td>\n",
    "    <td>19270</td> \n",
    "    <td>https://open.spotify.com/track/6mICuAdrwEjh6Y6lroV2Kg</td>\n",
    "    <td>2017-01-01</td>\n",
    "    <td>ec</td>\n",
    "  </tr>\n",
    "  <tr>\n",
    "    <td>3</td>\n",
    "    <td>Otra Vez (feat. J Balvin)</td>\n",
    "    <td>Zion & Lennox</td>\n",
    "    <td>15761</td> \n",
    "    <td>https://open.spotify.com/track/3QwBODjSEzelZyVjxPOHdq</td>\n",
    "    <td>2017-01-01</td>\n",
    "    <td>ec</td>\n",
    "  </tr>\n",
    "  <tr>\n",
    "    <td>4</td>\n",
    "    <td>Vente Pa' Ca</td>\n",
    "    <td>Ricky Martin</td>\n",
    "    <td>14954</td> \n",
    "    <td>https://open.spotify.com/track/7DM4BPaS7uofFul3ywMe46</td>\n",
    "    <td>2017-01-01</td>\n",
    "    <td>ec</td>\n",
    "  </tr>\n",
    "  <tr>\n",
    "    <td>5</td>\n",
    "    <td>Safari</td>\n",
    "    <td>J Balvin</td>\n",
    "    <td>14269</td> \n",
    "    <td>https://open.spotify.com/track/6rQSrBHf7HlZjtcMZ4S4bO</td>\n",
    "    <td>2017-01-01</td>\n",
    "    <td>ec</td>\n",
    "  </tr>\n",
    "</table>"
   ]
  },
  {
   "cell_type": "markdown",
   "metadata": {},
   "source": [
    "Shown below is the first 5 rows of the Top Spotify Tracks of 2017 dataset."
   ]
  },
  {
   "cell_type": "code",
   "execution_count": 115,
   "metadata": {},
   "outputs": [
    {
     "data": {
      "text/html": [
       "<div>\n",
       "<style>\n",
       "    .dataframe thead tr:only-child th {\n",
       "        text-align: right;\n",
       "    }\n",
       "\n",
       "    .dataframe thead th {\n",
       "        text-align: left;\n",
       "    }\n",
       "\n",
       "    .dataframe tbody tr th {\n",
       "        vertical-align: top;\n",
       "    }\n",
       "</style>\n",
       "<table border=\"1\" class=\"dataframe\">\n",
       "  <thead>\n",
       "    <tr style=\"text-align: right;\">\n",
       "      <th></th>\n",
       "      <th>id</th>\n",
       "      <th>name</th>\n",
       "      <th>artists</th>\n",
       "      <th>danceability</th>\n",
       "      <th>energy</th>\n",
       "      <th>key</th>\n",
       "      <th>loudness</th>\n",
       "      <th>mode</th>\n",
       "      <th>speechiness</th>\n",
       "      <th>acousticness</th>\n",
       "      <th>instrumentalness</th>\n",
       "      <th>liveness</th>\n",
       "      <th>valence</th>\n",
       "      <th>tempo</th>\n",
       "      <th>duration_ms</th>\n",
       "      <th>time_signature</th>\n",
       "    </tr>\n",
       "  </thead>\n",
       "  <tbody>\n",
       "    <tr>\n",
       "      <th>0</th>\n",
       "      <td>7qiZfU4dY1lWllzX7mPBI</td>\n",
       "      <td>Shape of You</td>\n",
       "      <td>Ed Sheeran</td>\n",
       "      <td>0.825</td>\n",
       "      <td>0.652</td>\n",
       "      <td>1.0</td>\n",
       "      <td>-3.183</td>\n",
       "      <td>0.0</td>\n",
       "      <td>0.0802</td>\n",
       "      <td>0.5810</td>\n",
       "      <td>0.000000</td>\n",
       "      <td>0.0931</td>\n",
       "      <td>0.931</td>\n",
       "      <td>95.977</td>\n",
       "      <td>233713.0</td>\n",
       "      <td>4.0</td>\n",
       "    </tr>\n",
       "    <tr>\n",
       "      <th>1</th>\n",
       "      <td>5CtI0qwDJkDQGwXD1H1cL</td>\n",
       "      <td>Despacito - Remix</td>\n",
       "      <td>Luis Fonsi</td>\n",
       "      <td>0.694</td>\n",
       "      <td>0.815</td>\n",
       "      <td>2.0</td>\n",
       "      <td>-4.328</td>\n",
       "      <td>1.0</td>\n",
       "      <td>0.1200</td>\n",
       "      <td>0.2290</td>\n",
       "      <td>0.000000</td>\n",
       "      <td>0.0924</td>\n",
       "      <td>0.813</td>\n",
       "      <td>88.931</td>\n",
       "      <td>228827.0</td>\n",
       "      <td>4.0</td>\n",
       "    </tr>\n",
       "    <tr>\n",
       "      <th>2</th>\n",
       "      <td>4aWmUDTfIPGksMNLV2rQP</td>\n",
       "      <td>Despacito (Featuring Daddy Yankee)</td>\n",
       "      <td>Luis Fonsi</td>\n",
       "      <td>0.660</td>\n",
       "      <td>0.786</td>\n",
       "      <td>2.0</td>\n",
       "      <td>-4.757</td>\n",
       "      <td>1.0</td>\n",
       "      <td>0.1700</td>\n",
       "      <td>0.2090</td>\n",
       "      <td>0.000000</td>\n",
       "      <td>0.1120</td>\n",
       "      <td>0.846</td>\n",
       "      <td>177.833</td>\n",
       "      <td>228200.0</td>\n",
       "      <td>4.0</td>\n",
       "    </tr>\n",
       "    <tr>\n",
       "      <th>3</th>\n",
       "      <td>6RUKPb4LETWmmr3iAEQkt</td>\n",
       "      <td>Something Just Like This</td>\n",
       "      <td>The Chainsmokers</td>\n",
       "      <td>0.617</td>\n",
       "      <td>0.635</td>\n",
       "      <td>11.0</td>\n",
       "      <td>-6.769</td>\n",
       "      <td>0.0</td>\n",
       "      <td>0.0317</td>\n",
       "      <td>0.0498</td>\n",
       "      <td>0.000014</td>\n",
       "      <td>0.1640</td>\n",
       "      <td>0.446</td>\n",
       "      <td>103.019</td>\n",
       "      <td>247160.0</td>\n",
       "      <td>4.0</td>\n",
       "    </tr>\n",
       "    <tr>\n",
       "      <th>4</th>\n",
       "      <td>3DXncPQOG4VBw3QHh3S81</td>\n",
       "      <td>I'm the One</td>\n",
       "      <td>DJ Khaled</td>\n",
       "      <td>0.609</td>\n",
       "      <td>0.668</td>\n",
       "      <td>7.0</td>\n",
       "      <td>-4.284</td>\n",
       "      <td>1.0</td>\n",
       "      <td>0.0367</td>\n",
       "      <td>0.0552</td>\n",
       "      <td>0.000000</td>\n",
       "      <td>0.1670</td>\n",
       "      <td>0.811</td>\n",
       "      <td>80.924</td>\n",
       "      <td>288600.0</td>\n",
       "      <td>4.0</td>\n",
       "    </tr>\n",
       "  </tbody>\n",
       "</table>\n",
       "</div>"
      ],
      "text/plain": [
       "                      id                                name  \\\n",
       "0  7qiZfU4dY1lWllzX7mPBI                        Shape of You   \n",
       "1  5CtI0qwDJkDQGwXD1H1cL                   Despacito - Remix   \n",
       "2  4aWmUDTfIPGksMNLV2rQP  Despacito (Featuring Daddy Yankee)   \n",
       "3  6RUKPb4LETWmmr3iAEQkt            Something Just Like This   \n",
       "4  3DXncPQOG4VBw3QHh3S81                         I'm the One   \n",
       "\n",
       "            artists  danceability  energy   key  loudness  mode  speechiness  \\\n",
       "0        Ed Sheeran         0.825   0.652   1.0    -3.183   0.0       0.0802   \n",
       "1        Luis Fonsi         0.694   0.815   2.0    -4.328   1.0       0.1200   \n",
       "2        Luis Fonsi         0.660   0.786   2.0    -4.757   1.0       0.1700   \n",
       "3  The Chainsmokers         0.617   0.635  11.0    -6.769   0.0       0.0317   \n",
       "4         DJ Khaled         0.609   0.668   7.0    -4.284   1.0       0.0367   \n",
       "\n",
       "   acousticness  instrumentalness  liveness  valence    tempo  duration_ms  \\\n",
       "0        0.5810          0.000000    0.0931    0.931   95.977     233713.0   \n",
       "1        0.2290          0.000000    0.0924    0.813   88.931     228827.0   \n",
       "2        0.2090          0.000000    0.1120    0.846  177.833     228200.0   \n",
       "3        0.0498          0.000014    0.1640    0.446  103.019     247160.0   \n",
       "4        0.0552          0.000000    0.1670    0.811   80.924     288600.0   \n",
       "\n",
       "   time_signature  \n",
       "0             4.0  \n",
       "1             4.0  \n",
       "2             4.0  \n",
       "3             4.0  \n",
       "4             4.0  "
      ]
     },
     "execution_count": 115,
     "metadata": {},
     "output_type": "execute_result"
    }
   ],
   "source": [
    "spotify = pd.read_csv('featuresdf.csv')\n",
    "spotify.head()"
   ]
  },
  {
   "cell_type": "markdown",
   "metadata": {},
   "source": [
    "<b>Exploratory Data Analysis</b>\n",
    "\n",
    "Create a distribution plot for the values for each audio feature.<br>\n",
    "Create a feature correlation heat map.<br>\n",
    "See the following examples:<br>\n",
    "https://medium.com/mlreview/spotify-analyzing-and-predicting-songs-58827a0fa42b <br>\n",
    "https://www.kaggle.com/cihanoklap/top-songs-on-spotify-what-makes-them-popular <br>\n",
    "https://www.kaggle.com/nadintamer/what-makes-top-spotify-songs-popular"
   ]
  },
  {
   "cell_type": "markdown",
   "metadata": {},
   "source": [
    "<b>Data Preprocessing</b>\n",
    "\n",
    "Since the research checks the association between the song’s stream count and the song’s features, the researchers have to make sure that the song entry exists in both datasets. The researchers mapped the 100 songs from the Top Spotify Tracks dataset to the entries in the Spotify’s Worldwide Daily Song Ranking dataset and pulled entries with matching song titles. The 256718 entries will serve as the researchers’ working dataset. The dataset would contain duplicate entries, since songs could be on the top 200 in a span of several days in different regions. The researchers get the total stream count per song for the whole year.<br><br>\n",
    "With stream count as the metric of popularity, songs with a stream count higher than mean would be considered as popular (1) and the rest would be labeled as unpopular (0). The song name, stream count and other columns are no longer relevant after preprocessing thus they are removed.\n",
    "\n",
    "Shown below is the final product of the data preprocessing."
   ]
  },
  {
   "cell_type": "code",
   "execution_count": 116,
   "metadata": {},
   "outputs": [
    {
     "data": {
      "text/html": [
       "<div>\n",
       "<style>\n",
       "    .dataframe thead tr:only-child th {\n",
       "        text-align: right;\n",
       "    }\n",
       "\n",
       "    .dataframe thead th {\n",
       "        text-align: left;\n",
       "    }\n",
       "\n",
       "    .dataframe tbody tr th {\n",
       "        vertical-align: top;\n",
       "    }\n",
       "</style>\n",
       "<table border=\"1\" class=\"dataframe\">\n",
       "  <thead>\n",
       "    <tr style=\"text-align: right;\">\n",
       "      <th></th>\n",
       "      <th>acousticness</th>\n",
       "      <th>danceability</th>\n",
       "      <th>duration</th>\n",
       "      <th>energy</th>\n",
       "      <th>instrumentalness</th>\n",
       "      <th>key</th>\n",
       "      <th>liveliness</th>\n",
       "      <th>loudness</th>\n",
       "      <th>mode</th>\n",
       "      <th>speechiness</th>\n",
       "      <th>tempo</th>\n",
       "      <th>valence</th>\n",
       "      <th>popular</th>\n",
       "    </tr>\n",
       "  </thead>\n",
       "  <tbody>\n",
       "    <tr>\n",
       "      <th>0</th>\n",
       "      <td>0.581000</td>\n",
       "      <td>0.825</td>\n",
       "      <td>233713</td>\n",
       "      <td>0.652</td>\n",
       "      <td>0.00000</td>\n",
       "      <td>1</td>\n",
       "      <td>0.0931</td>\n",
       "      <td>-3.183</td>\n",
       "      <td>0</td>\n",
       "      <td>0.0802</td>\n",
       "      <td>95.977</td>\n",
       "      <td>0.931</td>\n",
       "      <td>1</td>\n",
       "    </tr>\n",
       "    <tr>\n",
       "      <th>1</th>\n",
       "      <td>0.229000</td>\n",
       "      <td>0.694</td>\n",
       "      <td>228827</td>\n",
       "      <td>0.815</td>\n",
       "      <td>0.00000</td>\n",
       "      <td>2</td>\n",
       "      <td>0.0924</td>\n",
       "      <td>-4.328</td>\n",
       "      <td>1</td>\n",
       "      <td>0.1200</td>\n",
       "      <td>88.931</td>\n",
       "      <td>0.813</td>\n",
       "      <td>1</td>\n",
       "    </tr>\n",
       "    <tr>\n",
       "      <th>2</th>\n",
       "      <td>0.000259</td>\n",
       "      <td>0.904</td>\n",
       "      <td>177000</td>\n",
       "      <td>0.611</td>\n",
       "      <td>0.00002</td>\n",
       "      <td>1</td>\n",
       "      <td>0.0976</td>\n",
       "      <td>-6.842</td>\n",
       "      <td>0</td>\n",
       "      <td>0.0888</td>\n",
       "      <td>150.020</td>\n",
       "      <td>0.400</td>\n",
       "      <td>1</td>\n",
       "    </tr>\n",
       "    <tr>\n",
       "      <th>3</th>\n",
       "      <td>0.029300</td>\n",
       "      <td>0.726</td>\n",
       "      <td>233902</td>\n",
       "      <td>0.769</td>\n",
       "      <td>0.01010</td>\n",
       "      <td>6</td>\n",
       "      <td>0.1040</td>\n",
       "      <td>-5.043</td>\n",
       "      <td>1</td>\n",
       "      <td>0.1230</td>\n",
       "      <td>97.985</td>\n",
       "      <td>0.733</td>\n",
       "      <td>1</td>\n",
       "    </tr>\n",
       "    <tr>\n",
       "      <th>4</th>\n",
       "      <td>0.002640</td>\n",
       "      <td>0.732</td>\n",
       "      <td>182707</td>\n",
       "      <td>0.750</td>\n",
       "      <td>0.00000</td>\n",
       "      <td>11</td>\n",
       "      <td>0.1090</td>\n",
       "      <td>-6.366</td>\n",
       "      <td>0</td>\n",
       "      <td>0.2310</td>\n",
       "      <td>155.096</td>\n",
       "      <td>0.401</td>\n",
       "      <td>1</td>\n",
       "    </tr>\n",
       "  </tbody>\n",
       "</table>\n",
       "</div>"
      ],
      "text/plain": [
       "   acousticness  danceability  duration  energy  instrumentalness  key  \\\n",
       "0      0.581000         0.825    233713   0.652           0.00000    1   \n",
       "1      0.229000         0.694    228827   0.815           0.00000    2   \n",
       "2      0.000259         0.904    177000   0.611           0.00002    1   \n",
       "3      0.029300         0.726    233902   0.769           0.01010    6   \n",
       "4      0.002640         0.732    182707   0.750           0.00000   11   \n",
       "\n",
       "   liveliness  loudness  mode  speechiness    tempo  valence  popular  \n",
       "0      0.0931    -3.183     0       0.0802   95.977    0.931        1  \n",
       "1      0.0924    -4.328     1       0.1200   88.931    0.813        1  \n",
       "2      0.0976    -6.842     0       0.0888  150.020    0.400        1  \n",
       "3      0.1040    -5.043     1       0.1230   97.985    0.733        1  \n",
       "4      0.1090    -6.366     0       0.2310  155.096    0.401        1  "
      ]
     },
     "execution_count": 116,
     "metadata": {},
     "output_type": "execute_result"
    }
   ],
   "source": [
    "spotify = pd.read_csv('spotify_dataset.csv')\n",
    "spotify.head()"
   ]
  },
  {
   "cell_type": "markdown",
   "metadata": {},
   "source": [
    "<b>Feature Selection</b>\n",
    "\n",
    "Choose one of the following:<br>\n",
    "1) Forward Stepwise Selection - Forward selection greedily chooses the best combination of features by starting with an empty subset of features, then incrementally adding a feature to the model that was selected through evaluation of the feature subset through cross-validation. This step is repeated until the generalization error is minimized and the best subset of features is reported.<br>\n",
    "2) Backward Stepwise Selection - Backward stepwise selection works similarly to forward stepwise selection; however, instead of starting with an empty subset of features, it begins by evaluating the use of all features and incrementally removes features until the model is optimized.<br>\n",
    "3) Regularization - Regularization is a shrinkage method that regularizes the coefficient estimates by shrinking the coefficients towards zero. Regularization often improves the fit because reducing coefficient estimates can significantly.<br>\n",
    "\n",
    "For selecting the appropriate features to be used for the machine learning models, we use backward stepwise selection to see wif there are any outlying feature that do not contribute much to the accuracy of the model. We do this by first selecting a random machine learning model which ended up as decision trees because this is the simplest model to construct. Here, we use only one feature out of the thirteen and the resulting accuracy of the test set to the train set is thus tabulated as seen in the table below. Among the features, we will see if there are any feature that has a large variance and remove this feature.\n",
    "\n",
    "<table>\n",
    "  <tr>\n",
    "    <th>Feature</th>\n",
    "    <th>Accuracy</th> \n",
    "  </tr>\n",
    "  <tr>\n",
    "    <td>Danceability</td>\n",
    "    <td>0.4515</td> \n",
    "  </tr>\n",
    "  <tr>\n",
    "    <td>Energy</td>\n",
    "    <td>0.5005</td> \n",
    "  </tr>\n",
    "  <tr>\n",
    "    <td>Key</td>\n",
    "    <td>0.6167</td> \n",
    "  </tr>\n",
    "  <tr>\n",
    "    <td>Loudness</td>\n",
    "    <td>0.5002</td> \n",
    "  </tr>\n",
    "  <tr>\n",
    "    <td>Mode</td>\n",
    "    <td>0.4859</td> \n",
    "  </tr>\n",
    "  <tr>\n",
    "    <td>Speechiness</td>\n",
    "    <td>0.4831</td> \n",
    "  </tr>\n",
    "  <tr>\n",
    "    <td>Acousticness</td>\n",
    "    <td>0.4204</td> \n",
    "  </tr>\n",
    "  <tr>\n",
    "    <td>Instrumentalness</td>\n",
    "    <td>0.5066</td> \n",
    "  </tr>\n",
    "  <tr>\n",
    "    <td>Liveliness</td>\n",
    "    <td>0.4907</td> \n",
    "  </tr>\n",
    "  <tr>\n",
    "    <td>Valence</td>\n",
    "    <td>0.4290</td> \n",
    "  </tr>\n",
    "  <tr>\n",
    "    <td>Tempo</td>\n",
    "    <td>0.5154</td> \n",
    "  </tr>\n",
    "  <tr>\n",
    "    <td>Duration</td>\n",
    "    <td>0.601</td> \n",
    "  </tr>\n",
    "</table>\n",
    "\n",
    "We can see here that most features produced accuracies that are above 0.5. The remaining features that are below 0.5 still had values that are near 0.5 so we opted to also keep these features. As a result, since all features produced decent accuracy, we chose to keep all of them for modelling later on.\n",
    "\n",
    "The code for testing the accuracy for each feature is shown below. Each test is ran for a total of 1000 iterations and the mean of the accuracy for all the iterations are taken as the accuracy for each feature."
   ]
  },
  {
   "cell_type": "code",
   "execution_count": 1,
   "metadata": {},
   "outputs": [
    {
     "name": "stderr",
     "output_type": "stream",
     "text": [
      "C:\\ProgramData\\Anaconda3\\lib\\site-packages\\h5py\\__init__.py:34: FutureWarning: Conversion of the second argument of issubdtype from `float` to `np.floating` is deprecated. In future, it will be treated as `np.float64 == np.dtype(float).type`.\n",
      "  from ._conv import register_converters as _register_converters\n"
     ]
    }
   ],
   "source": [
    "import matplotlib.pyplot as plt\n",
    "import numpy as np\n",
    "import tensorflow as tf\n",
    "from sklearn.model_selection import train_test_split\n",
    "%matplotlib inline\n",
    "\n",
    "plt.style.use('ggplot')\n",
    "\n",
    "plt.rcParams['figure.figsize'] = (12.0, 8.0) # set default size of plots\n",
    "plt.rcParams['image.interpolation'] = 'nearest'\n",
    "\n",
    "# Fix the seed of the random number \n",
    "# generator so that your results will match ours\n",
    "np.random.seed(1)\n",
    "\n",
    "%load_ext autoreload\n",
    "%autoreload 2"
   ]
  },
  {
   "cell_type": "markdown",
   "metadata": {},
   "source": [
    "<b>Acousticness</b>"
   ]
  },
  {
   "cell_type": "code",
   "execution_count": 117,
   "metadata": {},
   "outputs": [
    {
     "name": "stdout",
     "output_type": "stream",
     "text": [
      "0.42304166666666665\n"
     ]
    }
   ],
   "source": [
    "import numpy as np\n",
    "import pandas as pd\n",
    "\n",
    "spotify = pd.read_csv('spotify_dataset.csv')\n",
    "spotify[\"popular\"] = pd.Categorical(spotify[\"popular\"]).codes\n",
    "\n",
    "X = pd.DataFrame.drop(spotify,labels=['popular','duration','danceability','energy','instrumentalness','key','liveliness','loudness','mode',\n",
    "                                     'speechiness','tempo','valence'],axis=1).as_matrix()\n",
    "y = pd.DataFrame.drop(spotify,labels=['acousticness','duration','danceability','energy','instrumentalness','key','liveliness','loudness','mode',\n",
    "                                     'speechiness','tempo','valence'],axis=1).as_matrix()\n",
    "\n",
    "from sklearn.model_selection import train_test_split\n",
    "from sklearn.tree import DecisionTreeClassifier\n",
    "accuracy = []\n",
    "for i in range(1000):\n",
    "    X_train, X_test,y_train, y_test = train_test_split(X,y)\n",
    "\n",
    "    dtc = DecisionTreeClassifier()\n",
    "    dtc.fit(X_train,y_train)\n",
    "\n",
    "    predictions = dtc.predict(X_test)\n",
    "    accuracy.append(metrics.accuracy_score(y_test,predictions))\n",
    "print(np.mean(accuracy))"
   ]
  },
  {
   "cell_type": "markdown",
   "metadata": {},
   "source": [
    "<b>Duration</b>"
   ]
  },
  {
   "cell_type": "code",
   "execution_count": 72,
   "metadata": {},
   "outputs": [
    {
     "name": "stdout",
     "output_type": "stream",
     "text": [
      "0.601\n"
     ]
    }
   ],
   "source": [
    "X = pd.DataFrame.drop(spotify,labels=['popular','acousticness','danceability','energy','instrumentalness','key','liveliness','loudness','mode',\n",
    "                                     'speechiness','tempo','valence'],axis=1).as_matrix()\n",
    "y = pd.DataFrame.drop(spotify,labels=['acousticness','duration','danceability','energy','instrumentalness','key','liveliness','loudness','mode',\n",
    "                                     'speechiness','tempo','valence'],axis=1).as_matrix()\n",
    "accuracy = []\n",
    "for i in range(1000):\n",
    "    X_train, X_test,y_train, y_test = train_test_split(X,y)\n",
    "    dtc = DecisionTreeClassifier()\n",
    "    dtc.fit(X_train,y_train)\n",
    "    predictions = dtc.predict(X_test)\n",
    "    accuracy.append(metrics.accuracy_score(y_test,predictions))\n",
    "print(np.mean(accuracy))"
   ]
  },
  {
   "cell_type": "markdown",
   "metadata": {},
   "source": [
    "<b>Danceability</b>"
   ]
  },
  {
   "cell_type": "code",
   "execution_count": 73,
   "metadata": {},
   "outputs": [
    {
     "name": "stdout",
     "output_type": "stream",
     "text": [
      "0.4515416666666666\n"
     ]
    }
   ],
   "source": [
    "X = pd.DataFrame.drop(spotify,labels=['popular','acousticness','duration','energy','instrumentalness','key','liveliness','loudness','mode',\n",
    "                                     'speechiness','tempo','valence'],axis=1).as_matrix()\n",
    "y = pd.DataFrame.drop(spotify,labels=['acousticness','duration','danceability','energy','instrumentalness','key','liveliness','loudness','mode',\n",
    "                                     'speechiness','tempo','valence'],axis=1).as_matrix()\n",
    "accuracy = []\n",
    "for i in range(1000):\n",
    "    X_train, X_test,y_train, y_test = train_test_split(X,y)\n",
    "    dtc = DecisionTreeClassifier()\n",
    "    dtc.fit(X_train,y_train)\n",
    "    predictions = dtc.predict(X_test)\n",
    "    accuracy.append(metrics.accuracy_score(y_test,predictions))\n",
    "print(np.mean(accuracy))"
   ]
  },
  {
   "cell_type": "markdown",
   "metadata": {},
   "source": [
    "<b>Energy</b>"
   ]
  },
  {
   "cell_type": "code",
   "execution_count": 83,
   "metadata": {},
   "outputs": [
    {
     "name": "stdout",
     "output_type": "stream",
     "text": [
      "0.5005\n"
     ]
    }
   ],
   "source": [
    "X = pd.DataFrame.drop(spotify,labels=['popular','acousticness','danceability','duration','instrumentalness','key','liveliness','loudness','mode',\n",
    "                                     'speechiness','tempo','valence'],axis=1).as_matrix()\n",
    "y = pd.DataFrame.drop(spotify,labels=['acousticness','duration','danceability','energy','instrumentalness','key','liveliness','loudness','mode',\n",
    "                                     'speechiness','tempo','valence'],axis=1).as_matrix()\n",
    "accuracy = []\n",
    "for i in range(1000):\n",
    "    X_train, X_test,y_train, y_test = train_test_split(X,y)\n",
    "    dtc = DecisionTreeClassifier()\n",
    "    dtc.fit(X_train,y_train)\n",
    "    predictions = dtc.predict(X_test)\n",
    "    accuracy.append(metrics.accuracy_score(y_test,predictions))\n",
    "print(np.mean(accuracy))"
   ]
  },
  {
   "cell_type": "markdown",
   "metadata": {},
   "source": [
    "<b>Instrumentalness</b>"
   ]
  },
  {
   "cell_type": "code",
   "execution_count": 82,
   "metadata": {},
   "outputs": [
    {
     "name": "stdout",
     "output_type": "stream",
     "text": [
      "0.506625\n"
     ]
    }
   ],
   "source": [
    "X = pd.DataFrame.drop(spotify,labels=['popular','acousticness','danceability','duration','energy','key','liveliness','loudness','mode',\n",
    "                                     'speechiness','tempo','valence'],axis=1).as_matrix()\n",
    "y = pd.DataFrame.drop(spotify,labels=['acousticness','duration','danceability','energy','instrumentalness','key','liveliness','loudness','mode',\n",
    "                                     'speechiness','tempo','valence'],axis=1).as_matrix()\n",
    "accuracy = []\n",
    "for i in range(1000):\n",
    "    X_train, X_test,y_train, y_test = train_test_split(X,y)\n",
    "    dtc = DecisionTreeClassifier()\n",
    "    dtc.fit(X_train,y_train)\n",
    "    predictions = dtc.predict(X_test)\n",
    "    accuracy.append(metrics.accuracy_score(y_test,predictions))\n",
    "print(np.mean(accuracy))"
   ]
  },
  {
   "cell_type": "markdown",
   "metadata": {},
   "source": [
    "<b>Key</b>"
   ]
  },
  {
   "cell_type": "code",
   "execution_count": 76,
   "metadata": {},
   "outputs": [
    {
     "name": "stdout",
     "output_type": "stream",
     "text": [
      "0.6166666666666667\n"
     ]
    }
   ],
   "source": [
    "X = pd.DataFrame.drop(spotify,labels=['popular','acousticness','danceability','duration','energy','instrumentalness','liveliness','loudness','mode',\n",
    "                                     'speechiness','tempo','valence'],axis=1).as_matrix()\n",
    "y = pd.DataFrame.drop(spotify,labels=['acousticness','duration','danceability','energy','instrumentalness','key','liveliness','loudness','mode',\n",
    "                                     'speechiness','tempo','valence'],axis=1).as_matrix()\n",
    "accuracy = []\n",
    "for i in range(1000):\n",
    "    X_train, X_test,y_train, y_test = train_test_split(X,y)\n",
    "    dtc = DecisionTreeClassifier()\n",
    "    dtc.fit(X_train,y_train)\n",
    "    predictions = dtc.predict(X_test)\n",
    "    accuracy.append(metrics.accuracy_score(y_test,predictions))\n",
    "print(np.mean(accuracy))"
   ]
  },
  {
   "cell_type": "markdown",
   "metadata": {},
   "source": [
    "<b>Liveliness</b>"
   ]
  },
  {
   "cell_type": "code",
   "execution_count": 84,
   "metadata": {},
   "outputs": [
    {
     "name": "stdout",
     "output_type": "stream",
     "text": [
      "0.4906666666666667\n"
     ]
    }
   ],
   "source": [
    "X = pd.DataFrame.drop(spotify,labels=['popular','acousticness','danceability','duration','energy','instrumentalness','key','loudness','mode',\n",
    "                                     'speechiness','tempo','valence'],axis=1).as_matrix()\n",
    "y = pd.DataFrame.drop(spotify,labels=['acousticness','duration','danceability','energy','instrumentalness','key','liveliness','loudness','mode',\n",
    "                                     'speechiness','tempo','valence'],axis=1).as_matrix()\n",
    "accuracy = []\n",
    "for i in range(1000):\n",
    "    X_train, X_test,y_train, y_test = train_test_split(X,y)\n",
    "    dtc = DecisionTreeClassifier()\n",
    "    dtc.fit(X_train,y_train)\n",
    "    predictions = dtc.predict(X_test)\n",
    "    accuracy.append(metrics.accuracy_score(y_test,predictions))\n",
    "print(np.mean(accuracy))"
   ]
  },
  {
   "cell_type": "markdown",
   "metadata": {},
   "source": [
    "<b>Loudness</b>"
   ]
  },
  {
   "cell_type": "code",
   "execution_count": 92,
   "metadata": {},
   "outputs": [
    {
     "name": "stdout",
     "output_type": "stream",
     "text": [
      "0.5001666666666666\n"
     ]
    }
   ],
   "source": [
    "spotify = pd.read_csv('spotify_dataset_edited.csv')\n",
    "spotify[\"popular\"] = pd.Categorical(spotify[\"popular\"]).codes\n",
    "\n",
    "X = pd.DataFrame.drop(spotify,labels=['popular','acousticness','danceability','duration','energy','instrumentalness','key','liveliness','mode',\n",
    "                                     'speechiness','tempo','valence'],axis=1).as_matrix()\n",
    "y = pd.DataFrame.drop(spotify,labels=['acousticness','duration','danceability','energy','instrumentalness','key','liveliness','loudness','mode',\n",
    "                                     'speechiness','tempo','valence'],axis=1).as_matrix()\n",
    "accuracy = []\n",
    "for i in range(1000):\n",
    "    X_train, X_test,y_train, y_test = train_test_split(X,y)\n",
    "    dtc = DecisionTreeClassifier()\n",
    "    dtc.fit(X_train,y_train)\n",
    "    predictions = dtc.predict(X_test)\n",
    "    accuracy.append(metrics.accuracy_score(y_test,predictions))\n",
    "print(np.mean(accuracy))"
   ]
  },
  {
   "cell_type": "markdown",
   "metadata": {},
   "source": [
    "<b>Mode</b>"
   ]
  },
  {
   "cell_type": "code",
   "execution_count": 86,
   "metadata": {},
   "outputs": [
    {
     "name": "stdout",
     "output_type": "stream",
     "text": [
      "0.485875\n"
     ]
    }
   ],
   "source": [
    "spotify = pd.read_csv('spotify_dataset_edited.csv')\n",
    "spotify[\"popular\"] = pd.Categorical(spotify[\"popular\"]).codes\n",
    "\n",
    "X = pd.DataFrame.drop(spotify,labels=['popular','acousticness','danceability','duration','energy','instrumentalness','key','liveliness','loudness',\n",
    "                                     'speechiness','tempo','valence'],axis=1).as_matrix()\n",
    "y = pd.DataFrame.drop(spotify,labels=['acousticness','duration','danceability','energy','instrumentalness','key','liveliness','loudness','mode',\n",
    "                                     'speechiness','tempo','valence'],axis=1).as_matrix()\n",
    "accuracy = []\n",
    "for i in range(1000):\n",
    "    X_train, X_test,y_train, y_test = train_test_split(X,y)\n",
    "    dtc = DecisionTreeClassifier()\n",
    "    dtc.fit(X_train,y_train)\n",
    "    predictions = dtc.predict(X_test)\n",
    "    accuracy.append(metrics.accuracy_score(y_test,predictions))\n",
    "print(np.mean(accuracy))"
   ]
  },
  {
   "cell_type": "markdown",
   "metadata": {},
   "source": [
    "<b>Speechiness</b>"
   ]
  },
  {
   "cell_type": "code",
   "execution_count": 87,
   "metadata": {},
   "outputs": [
    {
     "name": "stdout",
     "output_type": "stream",
     "text": [
      "0.483125\n"
     ]
    }
   ],
   "source": [
    "spotify = pd.read_csv('spotify_dataset_edited.csv')\n",
    "spotify[\"popular\"] = pd.Categorical(spotify[\"popular\"]).codes\n",
    "\n",
    "X = pd.DataFrame.drop(spotify,labels=['popular','acousticness','danceability','duration','energy','instrumentalness','key','liveliness','loudness',\n",
    "                                     'mode','tempo','valence'],axis=1).as_matrix()\n",
    "y = pd.DataFrame.drop(spotify,labels=['acousticness','duration','danceability','energy','instrumentalness','key','liveliness','loudness','mode',\n",
    "                                     'speechiness','tempo','valence'],axis=1).as_matrix()\n",
    "accuracy = []\n",
    "for i in range(1000):\n",
    "    X_train, X_test,y_train, y_test = train_test_split(X,y)\n",
    "    dtc = DecisionTreeClassifier()\n",
    "    dtc.fit(X_train,y_train)\n",
    "    predictions = dtc.predict(X_test)\n",
    "    accuracy.append(metrics.accuracy_score(y_test,predictions))\n",
    "print(np.mean(accuracy))"
   ]
  },
  {
   "cell_type": "markdown",
   "metadata": {},
   "source": [
    "<b>Tempo</b>"
   ]
  },
  {
   "cell_type": "code",
   "execution_count": 88,
   "metadata": {},
   "outputs": [
    {
     "name": "stdout",
     "output_type": "stream",
     "text": [
      "0.5154166666666666\n"
     ]
    }
   ],
   "source": [
    "spotify = pd.read_csv('spotify_dataset_edited.csv')\n",
    "spotify[\"popular\"] = pd.Categorical(spotify[\"popular\"]).codes\n",
    "\n",
    "X = pd.DataFrame.drop(spotify,labels=['popular','acousticness','danceability','duration','energy','instrumentalness','key','liveliness','loudness',\n",
    "                                     'mode','speechiness','valence'],axis=1).as_matrix()\n",
    "y = pd.DataFrame.drop(spotify,labels=['acousticness','duration','danceability','energy','instrumentalness','key','liveliness','loudness','mode',\n",
    "                                     'speechiness','tempo','valence'],axis=1).as_matrix()\n",
    "accuracy = []\n",
    "for i in range(1000):\n",
    "    X_train, X_test,y_train, y_test = train_test_split(X,y)\n",
    "    dtc = DecisionTreeClassifier()\n",
    "    dtc.fit(X_train,y_train)\n",
    "    predictions = dtc.predict(X_test)\n",
    "    accuracy.append(metrics.accuracy_score(y_test,predictions))\n",
    "print(np.mean(accuracy))"
   ]
  },
  {
   "cell_type": "markdown",
   "metadata": {},
   "source": [
    "<b>Valence</b>"
   ]
  },
  {
   "cell_type": "code",
   "execution_count": 89,
   "metadata": {},
   "outputs": [
    {
     "name": "stdout",
     "output_type": "stream",
     "text": [
      "0.4289583333333334\n"
     ]
    }
   ],
   "source": [
    "spotify = pd.read_csv('spotify_dataset_edited.csv')\n",
    "spotify[\"popular\"] = pd.Categorical(spotify[\"popular\"]).codes\n",
    "\n",
    "X = pd.DataFrame.drop(spotify,labels=['popular','acousticness','danceability','duration','energy','instrumentalness','key','liveliness','loudness',\n",
    "                                     'mode','speechiness','tempo'],axis=1).as_matrix()\n",
    "y = pd.DataFrame.drop(spotify,labels=['acousticness','duration','danceability','energy','instrumentalness','key','liveliness','loudness','mode',\n",
    "                                     'speechiness','tempo','valence'],axis=1).as_matrix()\n",
    "accuracy = []\n",
    "for i in range(1000):\n",
    "    X_train, X_test,y_train, y_test = train_test_split(X,y)\n",
    "    dtc = DecisionTreeClassifier()\n",
    "    dtc.fit(X_train,y_train)\n",
    "    predictions = dtc.predict(X_test)\n",
    "    accuracy.append(metrics.accuracy_score(y_test,predictions))\n",
    "print(np.mean(accuracy))"
   ]
  },
  {
   "cell_type": "markdown",
   "metadata": {},
   "source": [
    "<b>Metrics</b>\n",
    "\n",
    "Precision, recall, and F1 score are used to capture how well our model does in the task of classification. Precision measures the portion of examples that were classified as popular that are truly popular while recall measures the portion of examples that are truly popular that our model classified as popular. F1 score acts as the weighted average between these two values. \n",
    "\n",
    "The AUC is a metric used to evaluate the performance of a binary classifier by taking the area under a curve created by plotting TPR vs. FPR at different probability thresholds. The AUC represents the probability that the classifier ranks a random positive example higher than a random negative one. "
   ]
  },
  {
   "cell_type": "markdown",
   "metadata": {},
   "source": [
    "<b>Model Training</b>\n",
    "\n",
    "<b> Decision Tree </b><br>\n",
    "Among the different machine learning classification algorithms, we first implement a model for decision trees."
   ]
  },
  {
   "cell_type": "markdown",
   "metadata": {},
   "source": [
    "Here, we first import the data from csv."
   ]
  },
  {
   "cell_type": "code",
   "execution_count": 118,
   "metadata": {},
   "outputs": [
    {
     "data": {
      "text/html": [
       "<div>\n",
       "<style>\n",
       "    .dataframe thead tr:only-child th {\n",
       "        text-align: right;\n",
       "    }\n",
       "\n",
       "    .dataframe thead th {\n",
       "        text-align: left;\n",
       "    }\n",
       "\n",
       "    .dataframe tbody tr th {\n",
       "        vertical-align: top;\n",
       "    }\n",
       "</style>\n",
       "<table border=\"1\" class=\"dataframe\">\n",
       "  <thead>\n",
       "    <tr style=\"text-align: right;\">\n",
       "      <th></th>\n",
       "      <th>acousticness</th>\n",
       "      <th>danceability</th>\n",
       "      <th>duration</th>\n",
       "      <th>energy</th>\n",
       "      <th>instrumentalness</th>\n",
       "      <th>key</th>\n",
       "      <th>liveliness</th>\n",
       "      <th>loudness</th>\n",
       "      <th>mode</th>\n",
       "      <th>speechiness</th>\n",
       "      <th>tempo</th>\n",
       "      <th>valence</th>\n",
       "      <th>popular</th>\n",
       "    </tr>\n",
       "  </thead>\n",
       "  <tbody>\n",
       "    <tr>\n",
       "      <th>0</th>\n",
       "      <td>0.581000</td>\n",
       "      <td>0.825</td>\n",
       "      <td>233713</td>\n",
       "      <td>0.652</td>\n",
       "      <td>0.00000</td>\n",
       "      <td>1</td>\n",
       "      <td>0.0931</td>\n",
       "      <td>-3.183</td>\n",
       "      <td>0</td>\n",
       "      <td>0.0802</td>\n",
       "      <td>95.977</td>\n",
       "      <td>0.931</td>\n",
       "      <td>1</td>\n",
       "    </tr>\n",
       "    <tr>\n",
       "      <th>1</th>\n",
       "      <td>0.229000</td>\n",
       "      <td>0.694</td>\n",
       "      <td>228827</td>\n",
       "      <td>0.815</td>\n",
       "      <td>0.00000</td>\n",
       "      <td>2</td>\n",
       "      <td>0.0924</td>\n",
       "      <td>-4.328</td>\n",
       "      <td>1</td>\n",
       "      <td>0.1200</td>\n",
       "      <td>88.931</td>\n",
       "      <td>0.813</td>\n",
       "      <td>1</td>\n",
       "    </tr>\n",
       "    <tr>\n",
       "      <th>2</th>\n",
       "      <td>0.000259</td>\n",
       "      <td>0.904</td>\n",
       "      <td>177000</td>\n",
       "      <td>0.611</td>\n",
       "      <td>0.00002</td>\n",
       "      <td>1</td>\n",
       "      <td>0.0976</td>\n",
       "      <td>-6.842</td>\n",
       "      <td>0</td>\n",
       "      <td>0.0888</td>\n",
       "      <td>150.020</td>\n",
       "      <td>0.400</td>\n",
       "      <td>1</td>\n",
       "    </tr>\n",
       "    <tr>\n",
       "      <th>3</th>\n",
       "      <td>0.029300</td>\n",
       "      <td>0.726</td>\n",
       "      <td>233902</td>\n",
       "      <td>0.769</td>\n",
       "      <td>0.01010</td>\n",
       "      <td>6</td>\n",
       "      <td>0.1040</td>\n",
       "      <td>-5.043</td>\n",
       "      <td>1</td>\n",
       "      <td>0.1230</td>\n",
       "      <td>97.985</td>\n",
       "      <td>0.733</td>\n",
       "      <td>1</td>\n",
       "    </tr>\n",
       "    <tr>\n",
       "      <th>4</th>\n",
       "      <td>0.002640</td>\n",
       "      <td>0.732</td>\n",
       "      <td>182707</td>\n",
       "      <td>0.750</td>\n",
       "      <td>0.00000</td>\n",
       "      <td>11</td>\n",
       "      <td>0.1090</td>\n",
       "      <td>-6.366</td>\n",
       "      <td>0</td>\n",
       "      <td>0.2310</td>\n",
       "      <td>155.096</td>\n",
       "      <td>0.401</td>\n",
       "      <td>1</td>\n",
       "    </tr>\n",
       "  </tbody>\n",
       "</table>\n",
       "</div>"
      ],
      "text/plain": [
       "   acousticness  danceability  duration  energy  instrumentalness  key  \\\n",
       "0      0.581000         0.825    233713   0.652           0.00000    1   \n",
       "1      0.229000         0.694    228827   0.815           0.00000    2   \n",
       "2      0.000259         0.904    177000   0.611           0.00002    1   \n",
       "3      0.029300         0.726    233902   0.769           0.01010    6   \n",
       "4      0.002640         0.732    182707   0.750           0.00000   11   \n",
       "\n",
       "   liveliness  loudness  mode  speechiness    tempo  valence  popular  \n",
       "0      0.0931    -3.183     0       0.0802   95.977    0.931        1  \n",
       "1      0.0924    -4.328     1       0.1200   88.931    0.813        1  \n",
       "2      0.0976    -6.842     0       0.0888  150.020    0.400        1  \n",
       "3      0.1040    -5.043     1       0.1230   97.985    0.733        1  \n",
       "4      0.1090    -6.366     0       0.2310  155.096    0.401        1  "
      ]
     },
     "execution_count": 118,
     "metadata": {},
     "output_type": "execute_result"
    }
   ],
   "source": [
    "spotify = pd.read_csv('spotify_dataset.csv')\n",
    "spotify[\"popular\"] = pd.Categorical(spotify[\"popular\"]).codes\n",
    "spotify.head()"
   ]
  },
  {
   "cell_type": "markdown",
   "metadata": {},
   "source": [
    "Then, we arrange the data into the X and y variables using pandas.DataFrame.drop."
   ]
  },
  {
   "cell_type": "code",
   "execution_count": 119,
   "metadata": {
    "collapsed": true
   },
   "outputs": [],
   "source": [
    "X = pd.DataFrame.drop(spotify,labels=['popular'],axis=1).as_matrix()\n",
    "y = pd.DataFrame.drop(spotify,labels=['acousticness','duration','danceability','energy','instrumentalness','key','liveliness','loudness','mode',\n",
    "                                     'speechiness','tempo','valence'],axis=1).as_matrix()"
   ]
  },
  {
   "cell_type": "markdown",
   "metadata": {},
   "source": [
    "Here, we separate the data into a train set and a test set to test the accuracy of our model's predictions later on. We then construct our DecisionTreeClassifier model from sklearn and fit our train data in it. Afterward, we make some predictions using the test set and print out the mean of all the accuracies after a total of 1000 iterations."
   ]
  },
  {
   "cell_type": "code",
   "execution_count": 120,
   "metadata": {},
   "outputs": [
    {
     "name": "stdout",
     "output_type": "stream",
     "text": [
      "0.5210416666666666\n"
     ]
    }
   ],
   "source": [
    "accuracy = []\n",
    "for i in range(1000):\n",
    "    X_train, X_test,y_train, y_test = train_test_split(X,y)\n",
    "    dtc = DecisionTreeClassifier()\n",
    "    dtc.fit(X_train,y_train)\n",
    "    predictions = dtc.predict(X_test)\n",
    "    accuracy.append(metrics.accuracy_score(y_test,predictions))\n",
    "print(np.mean(accuracy))"
   ]
=======
>>>>>>> parent of ceb6241... Initial 1.1
  }
 ],
 "metadata": {
  "kernelspec": {
   "display_name": "Python 3",
   "language": "python",
   "name": "python3"
  },
  "language_info": {
   "codemirror_mode": {
    "name": "ipython",
    "version": 3
   },
   "file_extension": ".py",
   "mimetype": "text/x-python",
   "name": "python",
   "nbconvert_exporter": "python",
   "pygments_lexer": "ipython3",
   "version": "3.6.3"
  }
 },
 "nbformat": 4,
 "nbformat_minor": 2
}
