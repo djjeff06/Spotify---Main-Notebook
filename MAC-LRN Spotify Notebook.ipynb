{
 "cells": [
  {
   "cell_type": "markdown",
   "metadata": {},
   "source": [
    "<b>Basic Flow</b>\n",
    "- Background of task and data\n",
    "- Summary of technique used\n",
    "- Simple data analysis (show of original data features)\n",
    "- Preprocessing\n",
    "- Feature Extraction (no feature extraction since the features are already given from the second data set)"
   ]
  },
  {
   "cell_type": "markdown",
   "metadata": {},
   "source": [
    "<b>Background and Related Works</b>\n",
    "\n",
    "In recent years, music revenue in the United States has seen substantial growth. In 2017, revenues from recorded music in the United States increased 16.5% at estimated retail value to $8.7 billion, continuing the growth from the previous year. Paid subscriptions from streaming services like Spotify and Apple Music were the biggest growth driver for the music industry in 2017. The revenues from streaming platforms made up 65% of total industry revenues. [1] Online streaming can now be seen as \n",
    "the new norm for accessing and distributing music. Therefore, having a fundamental understanding of what makes a song popular \n",
    "has major implications to musicians and record labels that thrive on stream count and song popularity. \n",
    "\n",
    "The ability to make accurate predictions of song popularity could be achieved through the use of machine learning techniques. \n",
    "\n",
    "Pham, Kyauk and Park used both acoustic features and metadata to create both classification and predictive models, to determine \n",
    "if whether or not the song is popular or in the case of the latter, predict the popularity score. Upon applying SVMs, neural \n",
    "networks and logistic regression for classification, SVM (Gaussian kernel) yielded the highest F1 score. As for regression, \n",
    "they fitted the models using a standard multiple linear regression, and applied feature selection methods to achieve the best \n",
    "coefficient estimates for regression.it was Logistic Lasso regression that yielded the smallest test error. The research \n",
    "concluded that the acoustic features aren’t nearly as predicative as the metadata features. A likely reason for this is that \n",
    "there is a lot of variation in acoustic features within a single song that make it difficult to extract metrics that represent \n",
    "an entire song.[2]"
   ]
  },
  {
   "cell_type": "markdown",
   "metadata": {},
   "source": [
    "<b>Objective</b>\n",
    "\n",
    "Determine the popularity of a song based on the given audio features with a value of 1 for popular and 0 for unpopular."
   ]
  },
  {
   "cell_type": "markdown",
   "metadata": {},
   "source": [
    "<b> Machine Learning Techniques</b>\n",
    "\n",
    "A. Classification:<br>\n",
    "1. Naive Bayes<br>\n",
    "2. SVM<br>\n",
    "3. Decision Tree<br>\n",
    "4. Logistic Regression<br>\n",
    "5. KNN"
   ]
  },
  {
   "cell_type": "markdown",
   "metadata": {},
   "source": [
    "<b>Description of the Data</b>\n",
    "\n",
    "This research uses data from two Kaggle datasets, namely Spotify’s Worldwide Daily Song Ranking [1] and Top Spotify Tracks of 2017 [2]. The former is a collection of Spotify’s most streamed songs in different regions across the world for each day of 2017. Each row contains a ranking position on a specific day and region. There are roughly 200 entries per day for each region, however be aware that some of Spotify's data was missing in very few occasions. Due to this, the researchers have only focused on the streams (stream count) column for each entry. The latter is a collection of the audio features of the songs found in the Top Spotify Tracks of 2017 playlist in Spotify. Aside from the song title, artist and song url, each song is given values for 13 audio features listed and defined by Spotify API below.\n",
    "<style>\n",
    "table, th, td {\n",
    "    border: 1px solid black;\n",
    "    border-collapse: collapse;\n",
    "    padding: 15px;\n",
    "    text-align: left;\n",
    "}\n",
    "</style>\n",
    "<table>\n",
    "  <tr>\n",
    "    <th>Feature</th>\n",
    "    <th>Description</th> \n",
    "  </tr>\n",
    "  <tr>\n",
    "    <td>Danceability</td>\n",
    "    <td>Describes how suitable a track is for dancing based on a combination of musical elements including tempo, rhythm stability, beat strength, and overall regularity. A value of 0.0 is least danceable and 1.0 is most danceable.</td> \n",
    "  </tr>\n",
    "  <tr>\n",
    "    <td>Energy</td>\n",
    "    <td>A measure from 0.0 to 1.0 and represents a perceptual measure of intensity and activity. Typically, energetic tracks feel fast, loud, and noisy. For example, death metal has high energy, while a Bach prelude scores low on the scale. Perceptual features contributing to this attribute include dynamic range, perceived loudness, timbre, onset rate, and general entropy.</td> \n",
    "  </tr>\n",
    "  <tr>\n",
    "    <td>Key</td>\n",
    "    <td>The key the track is in. Integers map to pitches using standard Pitch Class notation. E.g. 0 = C, 1 = C♯/D♭, 2 = D, and so on.</td> \n",
    "  </tr>\n",
    "  <tr>\n",
    "    <td>Loudness</td>\n",
    "    <td>The overall loudness of a track in decibels (dB). Loudness values are averaged across the entire track and are useful for comparing relative loudness of tracks. Loudness is the quality of a sound that is the primary psychological correlate of physical strength (amplitude). Values typical range between -60 and 0 db.</td> \n",
    "  </tr>\n",
    "  <tr>\n",
    "    <td>Mode</td>\n",
    "    <td>Mode indicates the modality (major or minor) of a track, the type of scale from which its melodic content is derived. Major is represented by 1 and minor is 0.</td> \n",
    "  </tr>\n",
    "  <tr>\n",
    "    <td>Speechiness</td>\n",
    "    <td>Speechiness detects the presence of spoken words in a track. The more exclusively speech-like the recording (e.g. talk show, audio book, poetry), the closer to 1.0 the attribute value. Values above 0.66 describe tracks that are probably made entirely of spoken words. Values between 0.33 and 0.66 describe tracks that may contain both music and speech, either in sections or layered, including such cases as rap music. Values below 0.33 most likely represent music and other non-speech-like tracks.</td> \n",
    "  </tr>\n",
    "  <tr>\n",
    "    <td>Acousticness</td>\n",
    "    <td>A confidence measure from 0.0 to 1.0 of whether the track is acoustic. 1.0 represents high confidence the track is acoustic.</td> \n",
    "  </tr>\n",
    "  <tr>\n",
    "    <td>Instrumentalness</td>\n",
    "    <td>Predicts whether a track contains no vocals. \"Ooh\" and \"aah\" sounds are treated as instrumental in this context. Rap or spoken word tracks are clearly \"vocal\". The closer the instrumentalness value is to 1.0, the greater likelihood the track contains no vocal content. Values above 0.5 are intended to represent instrumental tracks, but confidence is higher as the value approaches 1.0.</td> \n",
    "  </tr>\n",
    "  <tr>\n",
    "    <td>Liveliness</td>\n",
    "    <td>Detects the presence of an audience in the recording. Higher liveness values represent an increased probability that the track was performed live. A value above 0.8 provides strong likelihood that the track is live.</td> \n",
    "  </tr>\n",
    "  <tr>\n",
    "    <td>Valence</td>\n",
    "    <td>A measure from 0.0 to 1.0 describing the musical positiveness conveyed by a track. Tracks with high valence sound more positive (e.g. happy, cheerful, euphoric), while tracks with low valence sound more negative (e.g. sad, depressed, angry).</td> \n",
    "  </tr>\n",
    "  <tr>\n",
    "    <td>Tempo</td>\n",
    "    <td>The overall estimated tempo of a track in beats per minute (BPM). In musical terminology, tempo is the speed or pace of a given piece and derives directly from the average beat duration.</td> \n",
    "  </tr>\n",
    "  <tr>\n",
    "    <td>Duration</td>\n",
    "    <td>The duration of the track in milliseconds.</td> \n",
    "  </tr>\n",
    "  <tr>\n",
    "    <td>Time Signature</td>\n",
    "    <td>An estimated overall time signature of a track. The time signature (meter) is a notational convention to specify how many beats are in each bar (or measure).</td>\n",
    "  </tr>\n",
    "</table>"
   ]
  },
  {
   "cell_type": "markdown",
   "metadata": {},
   "source": [
    "Shown below is the hard-coded table (since file size is extremely large) of the first 5 rows of the Spotify’s Worldwide Daily Song Ranking dataset. For reference, you can view the entire dataset here: https://www.kaggle.com/edumucelli/spotifys-worldwide-daily-song-ranking/data\n",
    "\n",
    "<table>\n",
    "  <tr>\n",
    "    <th>Position</th>\n",
    "    <th>Track Name</th>\n",
    "    <th>Artist</th>\n",
    "    <th>Streams</th> \n",
    "    <th>URL</th>\n",
    "    <th>Date</th>\n",
    "    <th>Region</th> \n",
    "  </tr>\n",
    "  <tr>\n",
    "    <td>1</td>\n",
    "    <td>Reggaetón Lento (Bailemos)</td>\n",
    "    <td>CNCO</td>\n",
    "    <td>19272</td> \n",
    "    <td>https://open.spotify.com/track/3AEZUABDXNtecAOSC1qTfo</td>\n",
    "    <td>2017-01-01</td>\n",
    "    <td>ec</td>\n",
    "  </tr>\n",
    "  <tr>\n",
    "    <td>2</td>\n",
    "    <td>Chantaje</td>\n",
    "    <td>Shakira</td>\n",
    "    <td>19270</td> \n",
    "    <td>https://open.spotify.com/track/6mICuAdrwEjh6Y6lroV2Kg</td>\n",
    "    <td>2017-01-01</td>\n",
    "    <td>ec</td>\n",
    "  </tr>\n",
    "  <tr>\n",
    "    <td>3</td>\n",
    "    <td>Otra Vez (feat. J Balvin)</td>\n",
    "    <td>Zion & Lennox</td>\n",
    "    <td>15761</td> \n",
    "    <td>https://open.spotify.com/track/3QwBODjSEzelZyVjxPOHdq</td>\n",
    "    <td>2017-01-01</td>\n",
    "    <td>ec</td>\n",
    "  </tr>\n",
    "  <tr>\n",
    "    <td>4</td>\n",
    "    <td>Vente Pa' Ca</td>\n",
    "    <td>Ricky Martin</td>\n",
    "    <td>14954</td> \n",
    "    <td>https://open.spotify.com/track/7DM4BPaS7uofFul3ywMe46</td>\n",
    "    <td>2017-01-01</td>\n",
    "    <td>ec</td>\n",
    "  </tr>\n",
    "  <tr>\n",
    "    <td>5</td>\n",
    "    <td>Safari</td>\n",
    "    <td>J Balvin</td>\n",
    "    <td>14269</td> \n",
    "    <td>https://open.spotify.com/track/6rQSrBHf7HlZjtcMZ4S4bO</td>\n",
    "    <td>2017-01-01</td>\n",
    "    <td>ec</td>\n",
    "  </tr>\n",
    "</table>"
   ]
  },
  {
   "cell_type": "code",
   "execution_count": 1,
   "metadata": {},
   "outputs": [
    {
     "name": "stderr",
     "output_type": "stream",
     "text": [
      "C:\\ProgramData\\Anaconda3\\lib\\site-packages\\h5py\\__init__.py:34: FutureWarning: Conversion of the second argument of issubdtype from `float` to `np.floating` is deprecated. In future, it will be treated as `np.float64 == np.dtype(float).type`.\n",
      "  from ._conv import register_converters as _register_converters\n"
     ]
    }
   ],
   "source": [
    "import matplotlib.pyplot as plt\n",
    "import numpy as np\n",
    "import tensorflow as tf\n",
    "from sklearn.model_selection import train_test_split\n",
    "import pandas as pd\n",
    "from sklearn import metrics\n",
    "%matplotlib inline\n",
    "\n",
    "plt.style.use('ggplot')\n",
    "\n",
    "plt.rcParams['figure.figsize'] = (12.0, 8.0) # set default size of plots\n",
    "plt.rcParams['image.interpolation'] = 'nearest'\n",
    "\n",
    "# Fix the seed of the random number \n",
    "# generator so that your results will match ours\n",
    "np.random.seed(1)\n",
    "\n",
    "%load_ext autoreload\n",
    "%autoreload 2"
   ]
  },
  {
   "cell_type": "markdown",
   "metadata": {},
   "source": [
    "Shown below is the first 5 rows of the Top Spotify Tracks of 2017 dataset."
   ]
  },
  {
   "cell_type": "code",
   "execution_count": 2,
   "metadata": {},
   "outputs": [
    {
     "data": {
      "text/html": [
       "<div>\n",
       "<style>\n",
       "    .dataframe thead tr:only-child th {\n",
       "        text-align: right;\n",
       "    }\n",
       "\n",
       "    .dataframe thead th {\n",
       "        text-align: left;\n",
       "    }\n",
       "\n",
       "    .dataframe tbody tr th {\n",
       "        vertical-align: top;\n",
       "    }\n",
       "</style>\n",
       "<table border=\"1\" class=\"dataframe\">\n",
       "  <thead>\n",
       "    <tr style=\"text-align: right;\">\n",
       "      <th></th>\n",
       "      <th>id</th>\n",
       "      <th>name</th>\n",
       "      <th>artists</th>\n",
       "      <th>danceability</th>\n",
       "      <th>energy</th>\n",
       "      <th>key</th>\n",
       "      <th>loudness</th>\n",
       "      <th>mode</th>\n",
       "      <th>speechiness</th>\n",
       "      <th>acousticness</th>\n",
       "      <th>instrumentalness</th>\n",
       "      <th>liveness</th>\n",
       "      <th>valence</th>\n",
       "      <th>tempo</th>\n",
       "      <th>duration_ms</th>\n",
       "      <th>time_signature</th>\n",
       "    </tr>\n",
       "  </thead>\n",
       "  <tbody>\n",
       "    <tr>\n",
       "      <th>0</th>\n",
       "      <td>7qiZfU4dY1lWllzX7mPBI</td>\n",
       "      <td>Shape of You</td>\n",
       "      <td>Ed Sheeran</td>\n",
       "      <td>0.825</td>\n",
       "      <td>0.652</td>\n",
       "      <td>1.0</td>\n",
       "      <td>-3.183</td>\n",
       "      <td>0.0</td>\n",
       "      <td>0.0802</td>\n",
       "      <td>0.5810</td>\n",
       "      <td>0.000000</td>\n",
       "      <td>0.0931</td>\n",
       "      <td>0.931</td>\n",
       "      <td>95.977</td>\n",
       "      <td>233713.0</td>\n",
       "      <td>4.0</td>\n",
       "    </tr>\n",
       "    <tr>\n",
       "      <th>1</th>\n",
       "      <td>5CtI0qwDJkDQGwXD1H1cL</td>\n",
       "      <td>Despacito - Remix</td>\n",
       "      <td>Luis Fonsi</td>\n",
       "      <td>0.694</td>\n",
       "      <td>0.815</td>\n",
       "      <td>2.0</td>\n",
       "      <td>-4.328</td>\n",
       "      <td>1.0</td>\n",
       "      <td>0.1200</td>\n",
       "      <td>0.2290</td>\n",
       "      <td>0.000000</td>\n",
       "      <td>0.0924</td>\n",
       "      <td>0.813</td>\n",
       "      <td>88.931</td>\n",
       "      <td>228827.0</td>\n",
       "      <td>4.0</td>\n",
       "    </tr>\n",
       "    <tr>\n",
       "      <th>2</th>\n",
       "      <td>4aWmUDTfIPGksMNLV2rQP</td>\n",
       "      <td>Despacito (Featuring Daddy Yankee)</td>\n",
       "      <td>Luis Fonsi</td>\n",
       "      <td>0.660</td>\n",
       "      <td>0.786</td>\n",
       "      <td>2.0</td>\n",
       "      <td>-4.757</td>\n",
       "      <td>1.0</td>\n",
       "      <td>0.1700</td>\n",
       "      <td>0.2090</td>\n",
       "      <td>0.000000</td>\n",
       "      <td>0.1120</td>\n",
       "      <td>0.846</td>\n",
       "      <td>177.833</td>\n",
       "      <td>228200.0</td>\n",
       "      <td>4.0</td>\n",
       "    </tr>\n",
       "    <tr>\n",
       "      <th>3</th>\n",
       "      <td>6RUKPb4LETWmmr3iAEQkt</td>\n",
       "      <td>Something Just Like This</td>\n",
       "      <td>The Chainsmokers</td>\n",
       "      <td>0.617</td>\n",
       "      <td>0.635</td>\n",
       "      <td>11.0</td>\n",
       "      <td>-6.769</td>\n",
       "      <td>0.0</td>\n",
       "      <td>0.0317</td>\n",
       "      <td>0.0498</td>\n",
       "      <td>0.000014</td>\n",
       "      <td>0.1640</td>\n",
       "      <td>0.446</td>\n",
       "      <td>103.019</td>\n",
       "      <td>247160.0</td>\n",
       "      <td>4.0</td>\n",
       "    </tr>\n",
       "    <tr>\n",
       "      <th>4</th>\n",
       "      <td>3DXncPQOG4VBw3QHh3S81</td>\n",
       "      <td>I'm the One</td>\n",
       "      <td>DJ Khaled</td>\n",
       "      <td>0.609</td>\n",
       "      <td>0.668</td>\n",
       "      <td>7.0</td>\n",
       "      <td>-4.284</td>\n",
       "      <td>1.0</td>\n",
       "      <td>0.0367</td>\n",
       "      <td>0.0552</td>\n",
       "      <td>0.000000</td>\n",
       "      <td>0.1670</td>\n",
       "      <td>0.811</td>\n",
       "      <td>80.924</td>\n",
       "      <td>288600.0</td>\n",
       "      <td>4.0</td>\n",
       "    </tr>\n",
       "  </tbody>\n",
       "</table>\n",
       "</div>"
      ],
      "text/plain": [
       "                      id                                name  \\\n",
       "0  7qiZfU4dY1lWllzX7mPBI                        Shape of You   \n",
       "1  5CtI0qwDJkDQGwXD1H1cL                   Despacito - Remix   \n",
       "2  4aWmUDTfIPGksMNLV2rQP  Despacito (Featuring Daddy Yankee)   \n",
       "3  6RUKPb4LETWmmr3iAEQkt            Something Just Like This   \n",
       "4  3DXncPQOG4VBw3QHh3S81                         I'm the One   \n",
       "\n",
       "            artists  danceability  energy   key  loudness  mode  speechiness  \\\n",
       "0        Ed Sheeran         0.825   0.652   1.0    -3.183   0.0       0.0802   \n",
       "1        Luis Fonsi         0.694   0.815   2.0    -4.328   1.0       0.1200   \n",
       "2        Luis Fonsi         0.660   0.786   2.0    -4.757   1.0       0.1700   \n",
       "3  The Chainsmokers         0.617   0.635  11.0    -6.769   0.0       0.0317   \n",
       "4         DJ Khaled         0.609   0.668   7.0    -4.284   1.0       0.0367   \n",
       "\n",
       "   acousticness  instrumentalness  liveness  valence    tempo  duration_ms  \\\n",
       "0        0.5810          0.000000    0.0931    0.931   95.977     233713.0   \n",
       "1        0.2290          0.000000    0.0924    0.813   88.931     228827.0   \n",
       "2        0.2090          0.000000    0.1120    0.846  177.833     228200.0   \n",
       "3        0.0498          0.000014    0.1640    0.446  103.019     247160.0   \n",
       "4        0.0552          0.000000    0.1670    0.811   80.924     288600.0   \n",
       "\n",
       "   time_signature  \n",
       "0             4.0  \n",
       "1             4.0  \n",
       "2             4.0  \n",
       "3             4.0  \n",
       "4             4.0  "
      ]
     },
     "execution_count": 2,
     "metadata": {},
     "output_type": "execute_result"
    }
   ],
   "source": [
    "spotify = pd.read_csv('featuresdf.csv')\n",
    "spotify.head()"
   ]
  },
  {
   "cell_type": "markdown",
   "metadata": {},
   "source": [
    "<b>Exploratory Data Analysis</b>\n",
    "\n",
    "Create a distribution plot for the values for each audio feature.<br>\n",
    "Create a feature correlation heat map.<br>\n",
    "See the following examples:<br>\n",
    "https://medium.com/mlreview/spotify-analyzing-and-predicting-songs-58827a0fa42b <br>\n",
    "https://www.kaggle.com/cihanoklap/top-songs-on-spotify-what-makes-them-popular <br>\n",
    "https://www.kaggle.com/nadintamer/what-makes-top-spotify-songs-popular"
   ]
  },
  {
   "cell_type": "markdown",
   "metadata": {},
   "source": [
    "<b>Data Preprocessing</b>\n",
    "\n",
    "Since the research checks the association between the song’s stream count and the song’s features, the researchers have to make sure that the song entry exists in both datasets. The researchers mapped the 100 songs from the Top Spotify Tracks dataset to the entries in the Spotify’s Worldwide Daily Song Ranking dataset and pulled entries with matching song titles. The 256718 entries will serve as the researchers’ working dataset. The dataset would contain duplicate entries, since songs could be on the top 200 in a span of several days in different regions. The researchers get the total stream count per song for the whole year.<br><br>\n",
    "With stream count as the metric of popularity, songs with a stream count higher than mean would be considered as popular (1) and the rest would be labeled as unpopular (0). The song name, stream count and other columns are no longer relevant after preprocessing thus they are removed.\n",
    "\n",
    "Shown below is the final product of the data preprocessing."
   ]
  },
  {
   "cell_type": "code",
   "execution_count": 3,
   "metadata": {},
   "outputs": [
    {
     "data": {
      "text/html": [
       "<div>\n",
       "<style>\n",
       "    .dataframe thead tr:only-child th {\n",
       "        text-align: right;\n",
       "    }\n",
       "\n",
       "    .dataframe thead th {\n",
       "        text-align: left;\n",
       "    }\n",
       "\n",
       "    .dataframe tbody tr th {\n",
       "        vertical-align: top;\n",
       "    }\n",
       "</style>\n",
       "<table border=\"1\" class=\"dataframe\">\n",
       "  <thead>\n",
       "    <tr style=\"text-align: right;\">\n",
       "      <th></th>\n",
       "      <th>acousticness</th>\n",
       "      <th>danceability</th>\n",
       "      <th>duration</th>\n",
       "      <th>energy</th>\n",
       "      <th>instrumentalness</th>\n",
       "      <th>key</th>\n",
       "      <th>liveliness</th>\n",
       "      <th>loudness</th>\n",
       "      <th>mode</th>\n",
       "      <th>speechiness</th>\n",
       "      <th>tempo</th>\n",
       "      <th>valence</th>\n",
       "      <th>popular</th>\n",
       "    </tr>\n",
       "  </thead>\n",
       "  <tbody>\n",
       "    <tr>\n",
       "      <th>0</th>\n",
       "      <td>0.581000</td>\n",
       "      <td>0.825</td>\n",
       "      <td>233713</td>\n",
       "      <td>0.652</td>\n",
       "      <td>0.00000</td>\n",
       "      <td>1</td>\n",
       "      <td>0.0931</td>\n",
       "      <td>-3.183</td>\n",
       "      <td>0</td>\n",
       "      <td>0.0802</td>\n",
       "      <td>95.977</td>\n",
       "      <td>0.931</td>\n",
       "      <td>1</td>\n",
       "    </tr>\n",
       "    <tr>\n",
       "      <th>1</th>\n",
       "      <td>0.229000</td>\n",
       "      <td>0.694</td>\n",
       "      <td>228827</td>\n",
       "      <td>0.815</td>\n",
       "      <td>0.00000</td>\n",
       "      <td>2</td>\n",
       "      <td>0.0924</td>\n",
       "      <td>-4.328</td>\n",
       "      <td>1</td>\n",
       "      <td>0.1200</td>\n",
       "      <td>88.931</td>\n",
       "      <td>0.813</td>\n",
       "      <td>1</td>\n",
       "    </tr>\n",
       "    <tr>\n",
       "      <th>2</th>\n",
       "      <td>0.000259</td>\n",
       "      <td>0.904</td>\n",
       "      <td>177000</td>\n",
       "      <td>0.611</td>\n",
       "      <td>0.00002</td>\n",
       "      <td>1</td>\n",
       "      <td>0.0976</td>\n",
       "      <td>-6.842</td>\n",
       "      <td>0</td>\n",
       "      <td>0.0888</td>\n",
       "      <td>150.020</td>\n",
       "      <td>0.400</td>\n",
       "      <td>1</td>\n",
       "    </tr>\n",
       "    <tr>\n",
       "      <th>3</th>\n",
       "      <td>0.029300</td>\n",
       "      <td>0.726</td>\n",
       "      <td>233902</td>\n",
       "      <td>0.769</td>\n",
       "      <td>0.01010</td>\n",
       "      <td>6</td>\n",
       "      <td>0.1040</td>\n",
       "      <td>-5.043</td>\n",
       "      <td>1</td>\n",
       "      <td>0.1230</td>\n",
       "      <td>97.985</td>\n",
       "      <td>0.733</td>\n",
       "      <td>1</td>\n",
       "    </tr>\n",
       "    <tr>\n",
       "      <th>4</th>\n",
       "      <td>0.002640</td>\n",
       "      <td>0.732</td>\n",
       "      <td>182707</td>\n",
       "      <td>0.750</td>\n",
       "      <td>0.00000</td>\n",
       "      <td>11</td>\n",
       "      <td>0.1090</td>\n",
       "      <td>-6.366</td>\n",
       "      <td>0</td>\n",
       "      <td>0.2310</td>\n",
       "      <td>155.096</td>\n",
       "      <td>0.401</td>\n",
       "      <td>1</td>\n",
       "    </tr>\n",
       "  </tbody>\n",
       "</table>\n",
       "</div>"
      ],
      "text/plain": [
       "   acousticness  danceability  duration  energy  instrumentalness  key  \\\n",
       "0      0.581000         0.825    233713   0.652           0.00000    1   \n",
       "1      0.229000         0.694    228827   0.815           0.00000    2   \n",
       "2      0.000259         0.904    177000   0.611           0.00002    1   \n",
       "3      0.029300         0.726    233902   0.769           0.01010    6   \n",
       "4      0.002640         0.732    182707   0.750           0.00000   11   \n",
       "\n",
       "   liveliness  loudness  mode  speechiness    tempo  valence  popular  \n",
       "0      0.0931    -3.183     0       0.0802   95.977    0.931        1  \n",
       "1      0.0924    -4.328     1       0.1200   88.931    0.813        1  \n",
       "2      0.0976    -6.842     0       0.0888  150.020    0.400        1  \n",
       "3      0.1040    -5.043     1       0.1230   97.985    0.733        1  \n",
       "4      0.1090    -6.366     0       0.2310  155.096    0.401        1  "
      ]
     },
     "execution_count": 3,
     "metadata": {},
     "output_type": "execute_result"
    }
   ],
   "source": [
    "spotify = pd.read_csv('spotify_dataset.csv')\n",
    "spotify.head()"
   ]
  },
  {
   "cell_type": "markdown",
   "metadata": {},
   "source": [
    "<b>Feature Selection</b>\n",
    "\n",
    "Choose one of the following:<br>\n",
    "1) Forward Stepwise Selection - Forward selection greedily chooses the best combination of features by starting with an empty subset of features, then incrementally adding a feature to the model that was selected through evaluation of the feature subset through cross-validation. This step is repeated until the generalization error is minimized and the best subset of features is reported.<br>\n",
    "2) Backward Stepwise Selection - Backward stepwise selection works similarly to forward stepwise selection; however, instead of starting with an empty subset of features, it begins by evaluating the use of all features and incrementally removes features until the model is optimized.<br>\n",
    "3) Regularization - Regularization is a shrinkage method that regularizes the coefficient estimates by shrinking the coefficients towards zero. Regularization often improves the fit because reducing coefficient estimates can significantly.<br>\n",
    "\n",
    "However, sklearn doesn't have either forward or backward selection algorithm, it does provide recursive feature elimination, which is a greedy feature elimination algorithm similar to sequential backward selection.\n",
    "\n",
    "Recursive feature elimination (RFE) deselects features by recursively considering smaller and smaller sets of features. First, the estimator is trained on the initial set of features and the importance of each feature is obtained either through a coef_ attribute or through a feature_importances_ attribute. Then, the least important features are pruned from current set of features. That procedure is recursively repeated on the pruned set until the desired number of features to select is eventually reached."
   ]
  },
  {
   "cell_type": "code",
   "execution_count": 40,
   "metadata": {},
   "outputs": [
    {
     "data": {
      "text/plain": [
       "array([8, 1, 1, 1, 7, 1, 2, 5, 6, 3, 4, 1])"
      ]
     },
     "execution_count": 40,
     "metadata": {},
     "output_type": "execute_result"
    }
   ],
   "source": [
    "from sklearn.feature_selection import RFE\n",
    "from sklearn.tree import DecisionTreeClassifier\n",
    "spotify = pd.read_csv('spotify_dataset.csv')\n",
    "\n",
    "X = pd.DataFrame.drop(spotify,labels=['popular'],axis=1).as_matrix()\n",
    "y = pd.DataFrame.drop(spotify,labels=['acousticness','duration','danceability','energy','instrumentalness','key','liveliness','loudness','mode','speechiness','tempo','valence'],axis=1).as_matrix()\n",
    "\n",
    "y=np.ravel(y)\n",
    "estimator = DecisionTreeClassifier()\n",
    "selector = RFE(estimator, 5, step=1)\n",
    "selector = selector.fit(X, y)\n",
    "selector.support_ \n",
    "selector.ranking_\n",
    "\n",
    "#duration, danceability, energy, liveliness, tempo"
   ]
  },
  {
   "cell_type": "markdown",
   "metadata": {},
   "source": [
    "In the output above, the indices represented by 1's will be the top five features that will be used, which are duration, danceability, energy, liveliness, and tempo."
   ]
  },
  {
   "cell_type": "markdown",
   "metadata": {},
   "source": [
    "<b>Metrics</b>\n",
    "\n",
    "Precision, recall, and F1 score are used to capture how well our model does in the task of classification. Precision measures the portion of examples that were classified as popular that are truly popular while recall measures the portion of examples that are truly popular that our model classified as popular. F1 score acts as the weighted average between these two values. \n",
    "\n",
    "The AUC is a metric used to evaluate the performance of a binary classifier by taking the area under a curve created by plotting TPR vs. FPR at different probability thresholds. The AUC represents the probability that the classifier ranks a random positive example higher than a random negative one. "
   ]
  },
  {
   "cell_type": "markdown",
   "metadata": {},
   "source": [
    "<b>Model Training</b>\n",
    "\n",
    "<b> Decision Tree </b><br>\n",
    "Among the different machine learning classification algorithms, we first implement a model for decision trees."
   ]
  },
  {
   "cell_type": "markdown",
   "metadata": {},
   "source": [
    "Here, we first import the data from csv."
   ]
  },
  {
   "cell_type": "code",
   "execution_count": 16,
   "metadata": {},
   "outputs": [
    {
     "data": {
      "text/html": [
       "<div>\n",
       "<style>\n",
       "    .dataframe thead tr:only-child th {\n",
       "        text-align: right;\n",
       "    }\n",
       "\n",
       "    .dataframe thead th {\n",
       "        text-align: left;\n",
       "    }\n",
       "\n",
       "    .dataframe tbody tr th {\n",
       "        vertical-align: top;\n",
       "    }\n",
       "</style>\n",
       "<table border=\"1\" class=\"dataframe\">\n",
       "  <thead>\n",
       "    <tr style=\"text-align: right;\">\n",
       "      <th></th>\n",
       "      <th>acousticness</th>\n",
       "      <th>danceability</th>\n",
       "      <th>duration</th>\n",
       "      <th>energy</th>\n",
       "      <th>instrumentalness</th>\n",
       "      <th>key</th>\n",
       "      <th>liveliness</th>\n",
       "      <th>loudness</th>\n",
       "      <th>mode</th>\n",
       "      <th>speechiness</th>\n",
       "      <th>tempo</th>\n",
       "      <th>valence</th>\n",
       "      <th>popular</th>\n",
       "    </tr>\n",
       "  </thead>\n",
       "  <tbody>\n",
       "    <tr>\n",
       "      <th>0</th>\n",
       "      <td>0.581000</td>\n",
       "      <td>0.825</td>\n",
       "      <td>233713</td>\n",
       "      <td>0.652</td>\n",
       "      <td>0.00000</td>\n",
       "      <td>1</td>\n",
       "      <td>0.0931</td>\n",
       "      <td>-3.183</td>\n",
       "      <td>0</td>\n",
       "      <td>0.0802</td>\n",
       "      <td>95.977</td>\n",
       "      <td>0.931</td>\n",
       "      <td>1</td>\n",
       "    </tr>\n",
       "    <tr>\n",
       "      <th>1</th>\n",
       "      <td>0.229000</td>\n",
       "      <td>0.694</td>\n",
       "      <td>228827</td>\n",
       "      <td>0.815</td>\n",
       "      <td>0.00000</td>\n",
       "      <td>2</td>\n",
       "      <td>0.0924</td>\n",
       "      <td>-4.328</td>\n",
       "      <td>1</td>\n",
       "      <td>0.1200</td>\n",
       "      <td>88.931</td>\n",
       "      <td>0.813</td>\n",
       "      <td>1</td>\n",
       "    </tr>\n",
       "    <tr>\n",
       "      <th>2</th>\n",
       "      <td>0.000259</td>\n",
       "      <td>0.904</td>\n",
       "      <td>177000</td>\n",
       "      <td>0.611</td>\n",
       "      <td>0.00002</td>\n",
       "      <td>1</td>\n",
       "      <td>0.0976</td>\n",
       "      <td>-6.842</td>\n",
       "      <td>0</td>\n",
       "      <td>0.0888</td>\n",
       "      <td>150.020</td>\n",
       "      <td>0.400</td>\n",
       "      <td>1</td>\n",
       "    </tr>\n",
       "    <tr>\n",
       "      <th>3</th>\n",
       "      <td>0.029300</td>\n",
       "      <td>0.726</td>\n",
       "      <td>233902</td>\n",
       "      <td>0.769</td>\n",
       "      <td>0.01010</td>\n",
       "      <td>6</td>\n",
       "      <td>0.1040</td>\n",
       "      <td>-5.043</td>\n",
       "      <td>1</td>\n",
       "      <td>0.1230</td>\n",
       "      <td>97.985</td>\n",
       "      <td>0.733</td>\n",
       "      <td>1</td>\n",
       "    </tr>\n",
       "    <tr>\n",
       "      <th>4</th>\n",
       "      <td>0.002640</td>\n",
       "      <td>0.732</td>\n",
       "      <td>182707</td>\n",
       "      <td>0.750</td>\n",
       "      <td>0.00000</td>\n",
       "      <td>11</td>\n",
       "      <td>0.1090</td>\n",
       "      <td>-6.366</td>\n",
       "      <td>0</td>\n",
       "      <td>0.2310</td>\n",
       "      <td>155.096</td>\n",
       "      <td>0.401</td>\n",
       "      <td>1</td>\n",
       "    </tr>\n",
       "  </tbody>\n",
       "</table>\n",
       "</div>"
      ],
      "text/plain": [
       "   acousticness  danceability  duration  energy  instrumentalness  key  \\\n",
       "0      0.581000         0.825    233713   0.652           0.00000    1   \n",
       "1      0.229000         0.694    228827   0.815           0.00000    2   \n",
       "2      0.000259         0.904    177000   0.611           0.00002    1   \n",
       "3      0.029300         0.726    233902   0.769           0.01010    6   \n",
       "4      0.002640         0.732    182707   0.750           0.00000   11   \n",
       "\n",
       "   liveliness  loudness  mode  speechiness    tempo  valence  popular  \n",
       "0      0.0931    -3.183     0       0.0802   95.977    0.931        1  \n",
       "1      0.0924    -4.328     1       0.1200   88.931    0.813        1  \n",
       "2      0.0976    -6.842     0       0.0888  150.020    0.400        1  \n",
       "3      0.1040    -5.043     1       0.1230   97.985    0.733        1  \n",
       "4      0.1090    -6.366     0       0.2310  155.096    0.401        1  "
      ]
     },
     "execution_count": 16,
     "metadata": {},
     "output_type": "execute_result"
    }
   ],
   "source": [
    "spotify = pd.read_csv('spotify_dataset.csv')\n",
    "spotify[\"popular\"] = pd.Categorical(spotify[\"popular\"]).codes\n",
    "spotify.head()"
   ]
  },
  {
   "cell_type": "markdown",
   "metadata": {},
   "source": [
    "Then, we arrange the data into the X and y variables using pandas.DataFrame.drop."
   ]
  },
  {
   "cell_type": "code",
   "execution_count": 17,
   "metadata": {},
   "outputs": [
    {
     "name": "stdout",
     "output_type": "stream",
     "text": [
      "(94, 5)\n",
      "(94, 1)\n"
     ]
    }
   ],
   "source": [
    "X = pd.DataFrame.drop(spotify,labels=['popular','acousticness','instrumentalness','key','loudness','mode','speechiness','valence'],axis=1).as_matrix()\n",
    "y = pd.DataFrame.drop(spotify,labels=['acousticness','duration','danceability','energy','instrumentalness','key','liveliness','loudness','mode',\n",
    "                                     'speechiness','tempo','valence'],axis=1).as_matrix()\n",
    "print(X.shape)\n",
    "print(y.shape)"
   ]
  },
  {
   "cell_type": "markdown",
   "metadata": {},
   "source": [
    "Here, we separate the data into a train set and a test set to test the accuracy of our model's predictions later on. We then construct our DecisionTreeClassifier model from sklearn and fit our train data in it. Afterward, we make some predictions using the test set and print out the mean of all the accuracies after a total of 1000 iterations."
   ]
  },
  {
   "cell_type": "code",
   "execution_count": 18,
   "metadata": {
    "collapsed": true
   },
   "outputs": [],
   "source": [
    "accuracy = []\n",
    "for i in range(1000):\n",
    "    X_train, X_test,y_train, y_test = train_test_split(X,y)\n",
    "    dtc = DecisionTreeClassifier()\n",
    "    dtc.fit(X_train,y_train)\n",
    "    predictions = dtc.predict(X_test)\n",
    "    accuracy.append(metrics.accuracy_score(y_test,predictions))"
   ]
  },
  {
   "cell_type": "markdown",
   "metadata": {},
   "source": [
    "Accuracy Score:"
   ]
  },
  {
   "cell_type": "code",
   "execution_count": 19,
   "metadata": {},
   "outputs": [
    {
     "name": "stdout",
     "output_type": "stream",
     "text": [
      "0.5414166666666667\n"
     ]
    }
   ],
   "source": [
    "print(np.mean(accuracy))"
   ]
  },
  {
   "cell_type": "markdown",
   "metadata": {},
   "source": [
    "AUC Score:"
   ]
  },
  {
   "cell_type": "code",
   "execution_count": 20,
   "metadata": {},
   "outputs": [
    {
     "name": "stdout",
     "output_type": "stream",
     "text": [
      "0.5210084033613445\n"
     ]
    }
   ],
   "source": [
    "print(metrics.roc_auc_score(y_test, predictions))"
   ]
  },
  {
   "cell_type": "markdown",
   "metadata": {},
   "source": [
    "F1 Score:"
   ]
  },
  {
   "cell_type": "code",
   "execution_count": 21,
   "metadata": {},
   "outputs": [
    {
     "name": "stdout",
     "output_type": "stream",
     "text": [
      "0.4\n"
     ]
    }
   ],
   "source": [
    "print(metrics.f1_score(y_test, predictions))"
   ]
  },
  {
   "cell_type": "markdown",
   "metadata": {},
   "source": [
    "Recall Score:"
   ]
  },
  {
   "cell_type": "code",
   "execution_count": 22,
   "metadata": {},
   "outputs": [
    {
     "name": "stdout",
     "output_type": "stream",
     "text": [
      "0.5714285714285714\n"
     ]
    }
   ],
   "source": [
    "print(metrics.recall_score(y_test, predictions))"
   ]
  },
  {
   "cell_type": "markdown",
   "metadata": {},
   "source": [
    "The predictions:"
   ]
  },
  {
   "cell_type": "code",
   "execution_count": 23,
   "metadata": {},
   "outputs": [
    {
     "name": "stdout",
     "output_type": "stream",
     "text": [
      "[1 1 0 1 1 1 1 1 1 1 1 1 0 0 1 0 0 0 0 0 1 0 0 0]\n"
     ]
    }
   ],
   "source": [
    "print(predictions)"
   ]
  },
  {
   "cell_type": "markdown",
   "metadata": {},
   "source": [
    "<b>Naive Bayes</b>\n",
    "\n",
    "<b>Gaussian Distribution</b><br>\n",
    "Here we use the same X and y from the one we processed in Decision Trees above. We will use GaussianNB since our feature values are continuous."
   ]
  },
  {
   "cell_type": "code",
   "execution_count": 24,
   "metadata": {},
   "outputs": [
    {
     "name": "stderr",
     "output_type": "stream",
     "text": [
      "C:\\ProgramData\\Anaconda3\\lib\\site-packages\\sklearn\\utils\\validation.py:578: DataConversionWarning: A column-vector y was passed when a 1d array was expected. Please change the shape of y to (n_samples, ), for example using ravel().\n",
      "  y = column_or_1d(y, warn=True)\n"
     ]
    }
   ],
   "source": [
    "from sklearn.naive_bayes import GaussianNB\n",
    "accuracy = []\n",
    "for i in range(1000):\n",
    "    X_train, X_test,y_train, y_test = train_test_split(X,y)\n",
    "    gnb = GaussianNB()\n",
    "    gnb.fit(X_train,y_train)\n",
    "    predictions = gnb.predict(X_test)\n",
    "    accuracy.append(metrics.accuracy_score(y_test,predictions))"
   ]
  },
  {
   "cell_type": "markdown",
   "metadata": {},
   "source": [
    "Accuracy Score:"
   ]
  },
  {
   "cell_type": "code",
   "execution_count": 25,
   "metadata": {},
   "outputs": [
    {
     "name": "stdout",
     "output_type": "stream",
     "text": [
      "0.5635416666666666\n"
     ]
    }
   ],
   "source": [
    "print(np.mean(accuracy))"
   ]
  },
  {
   "cell_type": "markdown",
   "metadata": {},
   "source": [
    "AUC Score:"
   ]
  },
  {
   "cell_type": "code",
   "execution_count": 26,
   "metadata": {},
   "outputs": [
    {
     "name": "stdout",
     "output_type": "stream",
     "text": [
      "0.5333333333333333\n"
     ]
    }
   ],
   "source": [
    "print(metrics.roc_auc_score(y_test, predictions))"
   ]
  },
  {
   "cell_type": "markdown",
   "metadata": {},
   "source": [
    "F1 Score:"
   ]
  },
  {
   "cell_type": "code",
   "execution_count": 27,
   "metadata": {},
   "outputs": [
    {
     "name": "stdout",
     "output_type": "stream",
     "text": [
      "0.375\n"
     ]
    }
   ],
   "source": [
    "print(metrics.f1_score(y_test, predictions))"
   ]
  },
  {
   "cell_type": "markdown",
   "metadata": {},
   "source": [
    "Recall Score:"
   ]
  },
  {
   "cell_type": "code",
   "execution_count": 28,
   "metadata": {},
   "outputs": [
    {
     "name": "stdout",
     "output_type": "stream",
     "text": [
      "0.3333333333333333\n"
     ]
    }
   ],
   "source": [
    "print(metrics.recall_score(y_test, predictions))"
   ]
  },
  {
   "cell_type": "markdown",
   "metadata": {},
   "source": [
    "The predicted labels for the test set:"
   ]
  },
  {
   "cell_type": "code",
   "execution_count": 29,
   "metadata": {},
   "outputs": [
    {
     "name": "stdout",
     "output_type": "stream",
     "text": [
      "Unpopular: 36.0\n",
      "Popular: 34.0\n"
     ]
    }
   ],
   "source": [
    "print(\"Unpopular:\",gnb.class_count_[0])\n",
    "print(\"Popular:\",gnb.class_count_[1])"
   ]
  },
  {
   "cell_type": "markdown",
   "metadata": {},
   "source": [
    "The predictions:"
   ]
  },
  {
   "cell_type": "code",
   "execution_count": 30,
   "metadata": {},
   "outputs": [
    {
     "name": "stdout",
     "output_type": "stream",
     "text": [
      "[1 0 0 1 0 0 0 1 0 0 0 0 0 1 0 1 1 0 0 0 0 0 0 1]\n"
     ]
    }
   ],
   "source": [
    "print(predictions)"
   ]
  },
  {
   "cell_type": "markdown",
   "metadata": {},
   "source": [
    "The priors the model used:"
   ]
  },
  {
   "cell_type": "code",
   "execution_count": 31,
   "metadata": {},
   "outputs": [
    {
     "name": "stdout",
     "output_type": "stream",
     "text": [
      "Unpopular: 0.5142857142857142\n",
      "Popular: 0.4857142857142857\n"
     ]
    }
   ],
   "source": [
    "print(\"Unpopular:\",gnb.class_prior_[0])\n",
    "print(\"Popular:\",gnb.class_prior_[1])"
   ]
  },
  {
   "cell_type": "markdown",
   "metadata": {},
   "source": [
    "<b>Neural Networks</b>"
   ]
  },
  {
   "cell_type": "code",
   "execution_count": 32,
   "metadata": {
    "collapsed": true
   },
   "outputs": [],
   "source": [
    "X = pd.DataFrame.drop(spotify,labels=['popular','acousticness','instrumentalness','key','loudness','mode','speechiness','valence'],axis=1).as_matrix()\n",
    "y = pd.DataFrame.drop(spotify,labels=['acousticness','duration','danceability','energy','instrumentalness','key','liveliness','loudness','mode',\n",
    "                                     'speechiness','tempo','valence'],axis=1).as_matrix()\n",
    "y = np.ravel(y)\n",
    "data = X\n",
    "target = y\n",
    "N, M  = data.shape\n",
    "X = np.ones((N, M + 1))\n",
    "X[:, 1:] = data\n",
    "\n",
    "# Convert into one-hot vectors\n",
    "num_labels = len(np.unique(target))\n",
    "Y = np.eye(num_labels)[target] "
   ]
  },
  {
   "cell_type": "code",
   "execution_count": 33,
   "metadata": {
    "collapsed": true
   },
   "outputs": [],
   "source": [
    "X_train, X_test, y_train, y_test = train_test_split(X,Y,test_size=0.33, random_state=42)"
   ]
  },
  {
   "cell_type": "code",
   "execution_count": 34,
   "metadata": {},
   "outputs": [
    {
     "name": "stdout",
     "output_type": "stream",
     "text": [
      "X_train shape : (62, 6)\n",
      "y_train shape : (62, 2)\n"
     ]
    }
   ],
   "source": [
    "print(\"X_train shape :\", X_train.shape)\n",
    "print(\"y_train shape :\", y_train.shape)"
   ]
  },
  {
   "cell_type": "markdown",
   "metadata": {},
   "source": [
    "Here, we shall model the neural network using softmax cross entropy with logits for computing the score, loss, and probability. Below, we test out different optimizer parameter to see which optimizer yields better result."
   ]
  },
  {
   "cell_type": "code",
   "execution_count": 35,
   "metadata": {
    "collapsed": true
   },
   "outputs": [],
   "source": [
    "n_instances = 100 # number of instances (N)\n",
    "RANDOM_SEED = 42\n",
    "\n",
    "def init_weights(n_input, n_hidden, n_output):\n",
    "\n",
    "    w1 = tf.random_normal(np.shape(np.zeros((n_input, n_hidden))),stddev=0.1,seed=RANDOM_SEED)\n",
    "    w2 = tf.random_normal(np.shape(np.zeros((n_hidden,n_output))),stddev=0.1,seed=RANDOM_SEED)\n",
    "\n",
    "    weights = {\n",
    "        'w1': tf.Variable(w1),\n",
    "        'w2': tf.Variable(w2)\n",
    "    }\n",
    "\n",
    "    return weights\n",
    "\n",
    "def do_forwardprop(X, W1, W2):\n",
    "\n",
    "    z1 = tf.matmul(X,W1)     # 1st layer score\n",
    "    a1 = tf.nn.sigmoid(z1)     # 1st layer activation\n",
    "    z2 = tf.matmul(z1,W2)      # 2nd layer score\n",
    "    a2 = tf.nn.sigmoid(z2)     # 2nd layer activation\n",
    "\n",
    "    return a2, z2\n",
    "\n",
    "def main(optimizer_fn):\n",
    "\n",
    "    loss_over_time = np.array([])\n",
    "\n",
    "    n_input  = 6      # Number of input nodes: # features and 1 bias\n",
    "    n_hidden = 10      # Number of hidden nodes\n",
    "    n_output = 2      # Number of outputs \n",
    "\n",
    "    weights = init_weights(n_input, n_hidden, n_output)\n",
    "\n",
    "    X = tf.placeholder(\"float32\", shape=[None, n_input])      # 1st parameter is None because to accommodate multiple instanced\n",
    "    y = tf.placeholder(\"float32\", shape=[None, n_output])      # 1st parameter is None because to accommodate multiple instanced\n",
    "    \n",
    "    a2, z2 = do_forwardprop(X, weights['w1'], weights['w2'])\n",
    "\n",
    "    predict  = tf.argmax(a2, axis=1)\n",
    "\n",
    "    loss      = tf.reduce_mean(tf.nn.softmax_cross_entropy_with_logits(labels=y, logits=z2))\n",
    "    \n",
    "    if optimizer_fn == \"momentum\":\n",
    "        optimizer = tf.train.MomentumOptimizer(learning_rate=1e-3, momentum=0.9).minimize(loss) \n",
    "    elif optimizer_fn == \"rmsprop\":\n",
    "        optimizer = tf.train.RMSPropOptimizer(learning_rate=1e-3).minimize(loss) \n",
    "    elif optimizer_fn == \"adam\":\n",
    "        optimizer = tf.train.AdamOptimizer().minimize(loss) \n",
    "    elif optimizer_fn == \"gd\":\n",
    "        optimizer = tf.train.GradientDescentOptimizer().minimize(loss)\n",
    "\n",
    "    session = tf.Session()\n",
    "    init = tf.global_variables_initializer()\n",
    "    session.run(init)\n",
    "\n",
    "    for epoch in range(100):\n",
    "        for i in range(len(X_train)):\n",
    "            _, l = session.run([optimizer, loss], feed_dict={X: X_train[i: i + 1], y: y_train[i: i + 1]})\n",
    "\n",
    "        loss_over_time = np.append(loss_over_time, l)\n",
    "        \n",
    "        train_accuracy = np.mean(np.argmax(y_train, axis=1) == session.run(predict, feed_dict={X: X_train, y: y_train}))\n",
    "        test_accuracy  = np.mean(np.argmax(y_test, axis=1) == session.run(predict, feed_dict={X: X_test, y: y_test}))\n",
    "        print(\"Epoch = %d, train accuracy = %.2f%%, test accuracy = %.2f%%\"\n",
    "              % (epoch + 1, 100. * train_accuracy, 100. * test_accuracy))\n",
    "\n",
    "    weights = session.run(weights)\n",
    "    session.close()\n",
    "    \n",
    "    return loss_over_time, weights"
   ]
  },
  {
   "cell_type": "code",
   "execution_count": 36,
   "metadata": {},
   "outputs": [
    {
     "name": "stdout",
     "output_type": "stream",
     "text": [
      "Epoch = 1, train accuracy = 58.06%, test accuracy = 46.88%\n",
      "Epoch = 2, train accuracy = 58.06%, test accuracy = 46.88%\n",
      "Epoch = 3, train accuracy = 58.06%, test accuracy = 46.88%\n",
      "Epoch = 4, train accuracy = 58.06%, test accuracy = 46.88%\n",
      "Epoch = 5, train accuracy = 58.06%, test accuracy = 46.88%\n",
      "Epoch = 6, train accuracy = 58.06%, test accuracy = 46.88%\n",
      "Epoch = 7, train accuracy = 58.06%, test accuracy = 46.88%\n",
      "Epoch = 8, train accuracy = 58.06%, test accuracy = 46.88%\n",
      "Epoch = 9, train accuracy = 58.06%, test accuracy = 46.88%\n",
      "Epoch = 10, train accuracy = 58.06%, test accuracy = 46.88%\n",
      "Epoch = 11, train accuracy = 58.06%, test accuracy = 46.88%\n",
      "Epoch = 12, train accuracy = 58.06%, test accuracy = 46.88%\n",
      "Epoch = 13, train accuracy = 58.06%, test accuracy = 46.88%\n",
      "Epoch = 14, train accuracy = 58.06%, test accuracy = 46.88%\n",
      "Epoch = 15, train accuracy = 58.06%, test accuracy = 46.88%\n",
      "Epoch = 16, train accuracy = 58.06%, test accuracy = 46.88%\n",
      "Epoch = 17, train accuracy = 58.06%, test accuracy = 46.88%\n",
      "Epoch = 18, train accuracy = 58.06%, test accuracy = 46.88%\n",
      "Epoch = 19, train accuracy = 58.06%, test accuracy = 46.88%\n",
      "Epoch = 20, train accuracy = 58.06%, test accuracy = 46.88%\n",
      "Epoch = 21, train accuracy = 58.06%, test accuracy = 46.88%\n",
      "Epoch = 22, train accuracy = 58.06%, test accuracy = 46.88%\n",
      "Epoch = 23, train accuracy = 58.06%, test accuracy = 46.88%\n",
      "Epoch = 24, train accuracy = 58.06%, test accuracy = 46.88%\n",
      "Epoch = 25, train accuracy = 58.06%, test accuracy = 46.88%\n",
      "Epoch = 26, train accuracy = 58.06%, test accuracy = 46.88%\n",
      "Epoch = 27, train accuracy = 58.06%, test accuracy = 46.88%\n",
      "Epoch = 28, train accuracy = 58.06%, test accuracy = 46.88%\n",
      "Epoch = 29, train accuracy = 58.06%, test accuracy = 46.88%\n",
      "Epoch = 30, train accuracy = 58.06%, test accuracy = 46.88%\n",
      "Epoch = 31, train accuracy = 58.06%, test accuracy = 46.88%\n",
      "Epoch = 32, train accuracy = 58.06%, test accuracy = 46.88%\n",
      "Epoch = 33, train accuracy = 58.06%, test accuracy = 46.88%\n",
      "Epoch = 34, train accuracy = 58.06%, test accuracy = 46.88%\n",
      "Epoch = 35, train accuracy = 58.06%, test accuracy = 46.88%\n",
      "Epoch = 36, train accuracy = 58.06%, test accuracy = 46.88%\n",
      "Epoch = 37, train accuracy = 58.06%, test accuracy = 46.88%\n",
      "Epoch = 38, train accuracy = 58.06%, test accuracy = 46.88%\n",
      "Epoch = 39, train accuracy = 58.06%, test accuracy = 46.88%\n",
      "Epoch = 40, train accuracy = 58.06%, test accuracy = 46.88%\n",
      "Epoch = 41, train accuracy = 58.06%, test accuracy = 46.88%\n",
      "Epoch = 42, train accuracy = 58.06%, test accuracy = 46.88%\n",
      "Epoch = 43, train accuracy = 58.06%, test accuracy = 46.88%\n",
      "Epoch = 44, train accuracy = 58.06%, test accuracy = 46.88%\n",
      "Epoch = 45, train accuracy = 58.06%, test accuracy = 46.88%\n",
      "Epoch = 46, train accuracy = 58.06%, test accuracy = 46.88%\n",
      "Epoch = 47, train accuracy = 58.06%, test accuracy = 46.88%\n",
      "Epoch = 48, train accuracy = 58.06%, test accuracy = 46.88%\n",
      "Epoch = 49, train accuracy = 58.06%, test accuracy = 46.88%\n",
      "Epoch = 50, train accuracy = 58.06%, test accuracy = 46.88%\n",
      "Epoch = 51, train accuracy = 58.06%, test accuracy = 46.88%\n",
      "Epoch = 52, train accuracy = 58.06%, test accuracy = 46.88%\n",
      "Epoch = 53, train accuracy = 58.06%, test accuracy = 46.88%\n",
      "Epoch = 54, train accuracy = 58.06%, test accuracy = 46.88%\n",
      "Epoch = 55, train accuracy = 58.06%, test accuracy = 46.88%\n",
      "Epoch = 56, train accuracy = 58.06%, test accuracy = 46.88%\n",
      "Epoch = 57, train accuracy = 58.06%, test accuracy = 46.88%\n",
      "Epoch = 58, train accuracy = 58.06%, test accuracy = 46.88%\n",
      "Epoch = 59, train accuracy = 58.06%, test accuracy = 46.88%\n",
      "Epoch = 60, train accuracy = 58.06%, test accuracy = 46.88%\n",
      "Epoch = 61, train accuracy = 58.06%, test accuracy = 46.88%\n",
      "Epoch = 62, train accuracy = 58.06%, test accuracy = 46.88%\n",
      "Epoch = 63, train accuracy = 58.06%, test accuracy = 46.88%\n",
      "Epoch = 64, train accuracy = 58.06%, test accuracy = 46.88%\n",
      "Epoch = 65, train accuracy = 58.06%, test accuracy = 46.88%\n",
      "Epoch = 66, train accuracy = 58.06%, test accuracy = 46.88%\n",
      "Epoch = 67, train accuracy = 58.06%, test accuracy = 46.88%\n",
      "Epoch = 68, train accuracy = 58.06%, test accuracy = 46.88%\n",
      "Epoch = 69, train accuracy = 58.06%, test accuracy = 46.88%\n",
      "Epoch = 70, train accuracy = 58.06%, test accuracy = 46.88%\n",
      "Epoch = 71, train accuracy = 58.06%, test accuracy = 46.88%\n",
      "Epoch = 72, train accuracy = 58.06%, test accuracy = 46.88%\n",
      "Epoch = 73, train accuracy = 58.06%, test accuracy = 46.88%\n",
      "Epoch = 74, train accuracy = 58.06%, test accuracy = 46.88%\n",
      "Epoch = 75, train accuracy = 58.06%, test accuracy = 46.88%\n",
      "Epoch = 76, train accuracy = 58.06%, test accuracy = 46.88%\n",
      "Epoch = 77, train accuracy = 58.06%, test accuracy = 46.88%\n",
      "Epoch = 78, train accuracy = 58.06%, test accuracy = 46.88%\n",
      "Epoch = 79, train accuracy = 58.06%, test accuracy = 46.88%\n",
      "Epoch = 80, train accuracy = 58.06%, test accuracy = 46.88%\n",
      "Epoch = 81, train accuracy = 58.06%, test accuracy = 46.88%\n",
      "Epoch = 82, train accuracy = 58.06%, test accuracy = 46.88%\n",
      "Epoch = 83, train accuracy = 58.06%, test accuracy = 46.88%\n",
      "Epoch = 84, train accuracy = 58.06%, test accuracy = 46.88%\n",
      "Epoch = 85, train accuracy = 58.06%, test accuracy = 46.88%\n",
      "Epoch = 86, train accuracy = 58.06%, test accuracy = 46.88%\n",
      "Epoch = 87, train accuracy = 58.06%, test accuracy = 46.88%\n",
      "Epoch = 88, train accuracy = 58.06%, test accuracy = 46.88%\n",
      "Epoch = 89, train accuracy = 58.06%, test accuracy = 46.88%\n",
      "Epoch = 90, train accuracy = 58.06%, test accuracy = 46.88%\n",
      "Epoch = 91, train accuracy = 58.06%, test accuracy = 46.88%\n",
      "Epoch = 92, train accuracy = 58.06%, test accuracy = 46.88%\n",
      "Epoch = 93, train accuracy = 58.06%, test accuracy = 46.88%\n",
      "Epoch = 94, train accuracy = 58.06%, test accuracy = 46.88%\n",
      "Epoch = 95, train accuracy = 58.06%, test accuracy = 46.88%\n",
      "Epoch = 96, train accuracy = 58.06%, test accuracy = 46.88%\n",
      "Epoch = 97, train accuracy = 58.06%, test accuracy = 46.88%\n",
      "Epoch = 98, train accuracy = 58.06%, test accuracy = 46.88%\n",
      "Epoch = 99, train accuracy = 58.06%, test accuracy = 46.88%\n",
      "Epoch = 100, train accuracy = 58.06%, test accuracy = 46.88%\n"
     ]
    }
   ],
   "source": [
    "momentum_loss, momentum_weight = main(\"momentum\")"
   ]
  },
  {
   "cell_type": "code",
   "execution_count": 37,
   "metadata": {},
   "outputs": [
    {
     "name": "stdout",
     "output_type": "stream",
     "text": [
      "Epoch = 1, train accuracy = 58.06%, test accuracy = 46.88%\n",
      "Epoch = 2, train accuracy = 58.06%, test accuracy = 46.88%\n",
      "Epoch = 3, train accuracy = 58.06%, test accuracy = 46.88%\n",
      "Epoch = 4, train accuracy = 58.06%, test accuracy = 46.88%\n",
      "Epoch = 5, train accuracy = 58.06%, test accuracy = 46.88%\n",
      "Epoch = 6, train accuracy = 58.06%, test accuracy = 46.88%\n",
      "Epoch = 7, train accuracy = 58.06%, test accuracy = 46.88%\n",
      "Epoch = 8, train accuracy = 58.06%, test accuracy = 46.88%\n",
      "Epoch = 9, train accuracy = 58.06%, test accuracy = 46.88%\n",
      "Epoch = 10, train accuracy = 58.06%, test accuracy = 46.88%\n",
      "Epoch = 11, train accuracy = 58.06%, test accuracy = 46.88%\n",
      "Epoch = 12, train accuracy = 58.06%, test accuracy = 46.88%\n",
      "Epoch = 13, train accuracy = 58.06%, test accuracy = 46.88%\n",
      "Epoch = 14, train accuracy = 58.06%, test accuracy = 46.88%\n",
      "Epoch = 15, train accuracy = 58.06%, test accuracy = 46.88%\n",
      "Epoch = 16, train accuracy = 58.06%, test accuracy = 46.88%\n",
      "Epoch = 17, train accuracy = 58.06%, test accuracy = 46.88%\n",
      "Epoch = 18, train accuracy = 58.06%, test accuracy = 46.88%\n",
      "Epoch = 19, train accuracy = 58.06%, test accuracy = 46.88%\n",
      "Epoch = 20, train accuracy = 58.06%, test accuracy = 46.88%\n",
      "Epoch = 21, train accuracy = 58.06%, test accuracy = 46.88%\n",
      "Epoch = 22, train accuracy = 58.06%, test accuracy = 46.88%\n",
      "Epoch = 23, train accuracy = 58.06%, test accuracy = 46.88%\n",
      "Epoch = 24, train accuracy = 58.06%, test accuracy = 46.88%\n",
      "Epoch = 25, train accuracy = 58.06%, test accuracy = 46.88%\n",
      "Epoch = 26, train accuracy = 58.06%, test accuracy = 46.88%\n",
      "Epoch = 27, train accuracy = 58.06%, test accuracy = 46.88%\n",
      "Epoch = 28, train accuracy = 58.06%, test accuracy = 46.88%\n",
      "Epoch = 29, train accuracy = 58.06%, test accuracy = 46.88%\n",
      "Epoch = 30, train accuracy = 58.06%, test accuracy = 46.88%\n",
      "Epoch = 31, train accuracy = 58.06%, test accuracy = 46.88%\n",
      "Epoch = 32, train accuracy = 58.06%, test accuracy = 46.88%\n",
      "Epoch = 33, train accuracy = 58.06%, test accuracy = 46.88%\n",
      "Epoch = 34, train accuracy = 58.06%, test accuracy = 46.88%\n",
      "Epoch = 35, train accuracy = 58.06%, test accuracy = 46.88%\n",
      "Epoch = 36, train accuracy = 58.06%, test accuracy = 46.88%\n",
      "Epoch = 37, train accuracy = 58.06%, test accuracy = 46.88%\n",
      "Epoch = 38, train accuracy = 58.06%, test accuracy = 46.88%\n",
      "Epoch = 39, train accuracy = 58.06%, test accuracy = 46.88%\n",
      "Epoch = 40, train accuracy = 58.06%, test accuracy = 46.88%\n",
      "Epoch = 41, train accuracy = 58.06%, test accuracy = 46.88%\n",
      "Epoch = 42, train accuracy = 58.06%, test accuracy = 46.88%\n",
      "Epoch = 43, train accuracy = 58.06%, test accuracy = 46.88%\n",
      "Epoch = 44, train accuracy = 58.06%, test accuracy = 46.88%\n",
      "Epoch = 45, train accuracy = 58.06%, test accuracy = 46.88%\n",
      "Epoch = 46, train accuracy = 58.06%, test accuracy = 46.88%\n",
      "Epoch = 47, train accuracy = 58.06%, test accuracy = 46.88%\n",
      "Epoch = 48, train accuracy = 58.06%, test accuracy = 46.88%\n",
      "Epoch = 49, train accuracy = 58.06%, test accuracy = 46.88%\n",
      "Epoch = 50, train accuracy = 58.06%, test accuracy = 46.88%\n",
      "Epoch = 51, train accuracy = 58.06%, test accuracy = 46.88%\n",
      "Epoch = 52, train accuracy = 58.06%, test accuracy = 46.88%\n",
      "Epoch = 53, train accuracy = 58.06%, test accuracy = 46.88%\n",
      "Epoch = 54, train accuracy = 58.06%, test accuracy = 46.88%\n",
      "Epoch = 55, train accuracy = 58.06%, test accuracy = 46.88%\n",
      "Epoch = 56, train accuracy = 58.06%, test accuracy = 46.88%\n",
      "Epoch = 57, train accuracy = 58.06%, test accuracy = 46.88%\n",
      "Epoch = 58, train accuracy = 58.06%, test accuracy = 46.88%\n",
      "Epoch = 59, train accuracy = 58.06%, test accuracy = 46.88%\n",
      "Epoch = 60, train accuracy = 58.06%, test accuracy = 46.88%\n",
      "Epoch = 61, train accuracy = 58.06%, test accuracy = 46.88%\n",
      "Epoch = 62, train accuracy = 58.06%, test accuracy = 46.88%\n",
      "Epoch = 63, train accuracy = 58.06%, test accuracy = 46.88%\n",
      "Epoch = 64, train accuracy = 58.06%, test accuracy = 46.88%\n",
      "Epoch = 65, train accuracy = 58.06%, test accuracy = 46.88%\n",
      "Epoch = 66, train accuracy = 58.06%, test accuracy = 46.88%\n",
      "Epoch = 67, train accuracy = 58.06%, test accuracy = 46.88%\n",
      "Epoch = 68, train accuracy = 58.06%, test accuracy = 46.88%\n",
      "Epoch = 69, train accuracy = 58.06%, test accuracy = 46.88%\n",
      "Epoch = 70, train accuracy = 58.06%, test accuracy = 46.88%\n",
      "Epoch = 71, train accuracy = 58.06%, test accuracy = 46.88%\n",
      "Epoch = 72, train accuracy = 58.06%, test accuracy = 46.88%\n",
      "Epoch = 73, train accuracy = 58.06%, test accuracy = 46.88%\n",
      "Epoch = 74, train accuracy = 58.06%, test accuracy = 46.88%\n",
      "Epoch = 75, train accuracy = 58.06%, test accuracy = 46.88%\n",
      "Epoch = 76, train accuracy = 58.06%, test accuracy = 46.88%\n",
      "Epoch = 77, train accuracy = 58.06%, test accuracy = 46.88%\n",
      "Epoch = 78, train accuracy = 58.06%, test accuracy = 46.88%\n",
      "Epoch = 79, train accuracy = 58.06%, test accuracy = 46.88%\n",
      "Epoch = 80, train accuracy = 58.06%, test accuracy = 46.88%\n",
      "Epoch = 81, train accuracy = 58.06%, test accuracy = 46.88%\n",
      "Epoch = 82, train accuracy = 58.06%, test accuracy = 46.88%\n",
      "Epoch = 83, train accuracy = 58.06%, test accuracy = 46.88%\n",
      "Epoch = 84, train accuracy = 58.06%, test accuracy = 46.88%\n",
      "Epoch = 85, train accuracy = 58.06%, test accuracy = 46.88%\n",
      "Epoch = 86, train accuracy = 58.06%, test accuracy = 46.88%\n",
      "Epoch = 87, train accuracy = 58.06%, test accuracy = 46.88%\n",
      "Epoch = 88, train accuracy = 58.06%, test accuracy = 46.88%\n",
      "Epoch = 89, train accuracy = 58.06%, test accuracy = 46.88%\n",
      "Epoch = 90, train accuracy = 58.06%, test accuracy = 46.88%\n",
      "Epoch = 91, train accuracy = 58.06%, test accuracy = 46.88%\n",
      "Epoch = 92, train accuracy = 58.06%, test accuracy = 46.88%\n",
      "Epoch = 93, train accuracy = 58.06%, test accuracy = 46.88%\n",
      "Epoch = 94, train accuracy = 58.06%, test accuracy = 46.88%\n",
      "Epoch = 95, train accuracy = 58.06%, test accuracy = 46.88%\n",
      "Epoch = 96, train accuracy = 58.06%, test accuracy = 46.88%\n",
      "Epoch = 97, train accuracy = 58.06%, test accuracy = 46.88%\n",
      "Epoch = 98, train accuracy = 58.06%, test accuracy = 46.88%\n",
      "Epoch = 99, train accuracy = 58.06%, test accuracy = 46.88%\n",
      "Epoch = 100, train accuracy = 58.06%, test accuracy = 46.88%\n"
     ]
    }
   ],
   "source": [
    "rmsprop_loss, rmsprop_weight = main(\"rmsprop\")"
   ]
  },
  {
   "cell_type": "code",
   "execution_count": 38,
   "metadata": {},
   "outputs": [
    {
     "name": "stdout",
     "output_type": "stream",
     "text": [
      "Epoch = 1, train accuracy = 58.06%, test accuracy = 46.88%\n",
      "Epoch = 2, train accuracy = 58.06%, test accuracy = 46.88%\n",
      "Epoch = 3, train accuracy = 58.06%, test accuracy = 46.88%\n",
      "Epoch = 4, train accuracy = 58.06%, test accuracy = 46.88%\n",
      "Epoch = 5, train accuracy = 58.06%, test accuracy = 46.88%\n",
      "Epoch = 6, train accuracy = 58.06%, test accuracy = 46.88%\n",
      "Epoch = 7, train accuracy = 58.06%, test accuracy = 46.88%\n",
      "Epoch = 8, train accuracy = 58.06%, test accuracy = 46.88%\n",
      "Epoch = 9, train accuracy = 58.06%, test accuracy = 46.88%\n",
      "Epoch = 10, train accuracy = 58.06%, test accuracy = 46.88%\n",
      "Epoch = 11, train accuracy = 58.06%, test accuracy = 46.88%\n",
      "Epoch = 12, train accuracy = 58.06%, test accuracy = 46.88%\n",
      "Epoch = 13, train accuracy = 58.06%, test accuracy = 46.88%\n",
      "Epoch = 14, train accuracy = 58.06%, test accuracy = 46.88%\n",
      "Epoch = 15, train accuracy = 58.06%, test accuracy = 46.88%\n",
      "Epoch = 16, train accuracy = 58.06%, test accuracy = 46.88%\n",
      "Epoch = 17, train accuracy = 58.06%, test accuracy = 46.88%\n",
      "Epoch = 18, train accuracy = 58.06%, test accuracy = 46.88%\n",
      "Epoch = 19, train accuracy = 58.06%, test accuracy = 46.88%\n",
      "Epoch = 20, train accuracy = 58.06%, test accuracy = 46.88%\n",
      "Epoch = 21, train accuracy = 58.06%, test accuracy = 46.88%\n",
      "Epoch = 22, train accuracy = 58.06%, test accuracy = 46.88%\n",
      "Epoch = 23, train accuracy = 58.06%, test accuracy = 46.88%\n",
      "Epoch = 24, train accuracy = 58.06%, test accuracy = 46.88%\n",
      "Epoch = 25, train accuracy = 58.06%, test accuracy = 46.88%\n",
      "Epoch = 26, train accuracy = 58.06%, test accuracy = 46.88%\n",
      "Epoch = 27, train accuracy = 58.06%, test accuracy = 46.88%\n",
      "Epoch = 28, train accuracy = 58.06%, test accuracy = 46.88%\n",
      "Epoch = 29, train accuracy = 58.06%, test accuracy = 46.88%\n",
      "Epoch = 30, train accuracy = 58.06%, test accuracy = 46.88%\n",
      "Epoch = 31, train accuracy = 58.06%, test accuracy = 46.88%\n",
      "Epoch = 32, train accuracy = 58.06%, test accuracy = 46.88%\n",
      "Epoch = 33, train accuracy = 58.06%, test accuracy = 46.88%\n",
      "Epoch = 34, train accuracy = 58.06%, test accuracy = 46.88%\n",
      "Epoch = 35, train accuracy = 58.06%, test accuracy = 46.88%\n",
      "Epoch = 36, train accuracy = 58.06%, test accuracy = 46.88%\n",
      "Epoch = 37, train accuracy = 58.06%, test accuracy = 46.88%\n",
      "Epoch = 38, train accuracy = 58.06%, test accuracy = 46.88%\n",
      "Epoch = 39, train accuracy = 58.06%, test accuracy = 46.88%\n",
      "Epoch = 40, train accuracy = 58.06%, test accuracy = 46.88%\n",
      "Epoch = 41, train accuracy = 58.06%, test accuracy = 46.88%\n",
      "Epoch = 42, train accuracy = 58.06%, test accuracy = 46.88%\n",
      "Epoch = 43, train accuracy = 58.06%, test accuracy = 46.88%\n",
      "Epoch = 44, train accuracy = 58.06%, test accuracy = 46.88%\n",
      "Epoch = 45, train accuracy = 58.06%, test accuracy = 46.88%\n",
      "Epoch = 46, train accuracy = 58.06%, test accuracy = 46.88%\n",
      "Epoch = 47, train accuracy = 58.06%, test accuracy = 46.88%\n",
      "Epoch = 48, train accuracy = 58.06%, test accuracy = 46.88%\n",
      "Epoch = 49, train accuracy = 58.06%, test accuracy = 46.88%\n",
      "Epoch = 50, train accuracy = 58.06%, test accuracy = 46.88%\n",
      "Epoch = 51, train accuracy = 58.06%, test accuracy = 46.88%\n",
      "Epoch = 52, train accuracy = 58.06%, test accuracy = 46.88%\n",
      "Epoch = 53, train accuracy = 58.06%, test accuracy = 46.88%\n",
      "Epoch = 54, train accuracy = 58.06%, test accuracy = 46.88%\n",
      "Epoch = 55, train accuracy = 58.06%, test accuracy = 46.88%\n",
      "Epoch = 56, train accuracy = 58.06%, test accuracy = 46.88%\n",
      "Epoch = 57, train accuracy = 58.06%, test accuracy = 46.88%\n",
      "Epoch = 58, train accuracy = 58.06%, test accuracy = 46.88%\n",
      "Epoch = 59, train accuracy = 58.06%, test accuracy = 46.88%\n",
      "Epoch = 60, train accuracy = 58.06%, test accuracy = 46.88%\n",
      "Epoch = 61, train accuracy = 58.06%, test accuracy = 46.88%\n",
      "Epoch = 62, train accuracy = 58.06%, test accuracy = 46.88%\n",
      "Epoch = 63, train accuracy = 58.06%, test accuracy = 46.88%\n",
      "Epoch = 64, train accuracy = 58.06%, test accuracy = 46.88%\n",
      "Epoch = 65, train accuracy = 58.06%, test accuracy = 46.88%\n",
      "Epoch = 66, train accuracy = 58.06%, test accuracy = 46.88%\n",
      "Epoch = 67, train accuracy = 58.06%, test accuracy = 46.88%\n",
      "Epoch = 68, train accuracy = 58.06%, test accuracy = 46.88%\n",
      "Epoch = 69, train accuracy = 58.06%, test accuracy = 46.88%\n",
      "Epoch = 70, train accuracy = 58.06%, test accuracy = 46.88%\n",
      "Epoch = 71, train accuracy = 58.06%, test accuracy = 46.88%\n",
      "Epoch = 72, train accuracy = 58.06%, test accuracy = 46.88%\n",
      "Epoch = 73, train accuracy = 58.06%, test accuracy = 46.88%\n",
      "Epoch = 74, train accuracy = 58.06%, test accuracy = 46.88%\n",
      "Epoch = 75, train accuracy = 58.06%, test accuracy = 46.88%\n",
      "Epoch = 76, train accuracy = 58.06%, test accuracy = 46.88%\n",
      "Epoch = 77, train accuracy = 58.06%, test accuracy = 46.88%\n",
      "Epoch = 78, train accuracy = 58.06%, test accuracy = 46.88%\n",
      "Epoch = 79, train accuracy = 58.06%, test accuracy = 46.88%\n",
      "Epoch = 80, train accuracy = 58.06%, test accuracy = 46.88%\n",
      "Epoch = 81, train accuracy = 58.06%, test accuracy = 46.88%\n",
      "Epoch = 82, train accuracy = 58.06%, test accuracy = 46.88%\n",
      "Epoch = 83, train accuracy = 58.06%, test accuracy = 46.88%\n",
      "Epoch = 84, train accuracy = 58.06%, test accuracy = 46.88%\n",
      "Epoch = 85, train accuracy = 58.06%, test accuracy = 46.88%\n",
      "Epoch = 86, train accuracy = 58.06%, test accuracy = 46.88%\n",
      "Epoch = 87, train accuracy = 58.06%, test accuracy = 46.88%\n",
      "Epoch = 88, train accuracy = 58.06%, test accuracy = 46.88%\n",
      "Epoch = 89, train accuracy = 58.06%, test accuracy = 46.88%\n",
      "Epoch = 90, train accuracy = 58.06%, test accuracy = 46.88%\n",
      "Epoch = 91, train accuracy = 58.06%, test accuracy = 46.88%\n",
      "Epoch = 92, train accuracy = 58.06%, test accuracy = 46.88%\n",
      "Epoch = 93, train accuracy = 58.06%, test accuracy = 46.88%\n",
      "Epoch = 94, train accuracy = 58.06%, test accuracy = 46.88%\n",
      "Epoch = 95, train accuracy = 58.06%, test accuracy = 46.88%\n",
      "Epoch = 96, train accuracy = 58.06%, test accuracy = 46.88%\n",
      "Epoch = 97, train accuracy = 58.06%, test accuracy = 46.88%\n",
      "Epoch = 98, train accuracy = 58.06%, test accuracy = 46.88%\n",
      "Epoch = 99, train accuracy = 58.06%, test accuracy = 46.88%\n",
      "Epoch = 100, train accuracy = 58.06%, test accuracy = 46.88%\n"
     ]
    }
   ],
   "source": [
    "adam_loss, adam_weight = main(\"adam\")"
   ]
  },
  {
   "cell_type": "code",
   "execution_count": 39,
   "metadata": {},
   "outputs": [
    {
     "data": {
      "text/plain": [
       "<matplotlib.legend.Legend at 0x161dfd30>"
      ]
     },
     "execution_count": 39,
     "metadata": {},
     "output_type": "execute_result"
    },
    {
     "data": {
      "image/png": "[encoded data removed]",
      "text/plain": [
       "<matplotlib.figure.Figure at 0x14fed908>"
      ]
     },
     "metadata": {},
     "output_type": "display_data"
    }
   ],
   "source": [
    "%matplotlib inline\n",
    "plt.figure(figsize=(15,12))\n",
    "plt.plot(momentum_loss, label=\"momentum\")\n",
    "plt.plot(rmsprop_loss, label=\"rmsprop\")\n",
    "plt.plot(adam_loss,label=\"adam\")\n",
    "plt.legend(loc=\"upper right\")"
   ]
  },
  {
   "cell_type": "markdown",
   "metadata": {},
   "source": [
    "Here, we test to see if it would make a difference when sigmoid cross entropy with logits is used instead of softmax."
   ]
  },
  {
   "cell_type": "code",
   "execution_count": 41,
   "metadata": {
    "collapsed": true
   },
   "outputs": [],
   "source": [
    "def main(optimizer_fn):\n",
    "\n",
    "    loss_over_time = np.array([])\n",
    "\n",
    "    n_input  = 6      # Number of input nodes: # features and 1 bias\n",
    "    n_hidden = 10      # Number of hidden nodes\n",
    "    n_output = 2      # Number of outputs \n",
    "\n",
    "    weights = init_weights(n_input, n_hidden, n_output)\n",
    "\n",
    "    X = tf.placeholder(\"float32\", shape=[None, n_input])      # 1st parameter is None because to accommodate multiple instanced\n",
    "    y = tf.placeholder(\"float32\", shape=[None, n_output])      # 1st parameter is None because to accommodate multiple instanced\n",
    "    \n",
    "    a2, z2 = do_forwardprop(X, weights['w1'], weights['w2'])\n",
    "\n",
    "    predict  = tf.argmax(a2, axis=1)\n",
    "\n",
    "    loss      = tf.reduce_mean(tf.nn.sigmoid_cross_entropy_with_logits(labels=y, logits=z2))\n",
    "    \n",
    "    if optimizer_fn == \"momentum\":\n",
    "        optimizer = tf.train.MomentumOptimizer(learning_rate=1e-3, momentum=0.9).minimize(loss) \n",
    "    elif optimizer_fn == \"rmsprop\":\n",
    "        optimizer = tf.train.RMSPropOptimizer(learning_rate=1e-3).minimize(loss) \n",
    "    elif optimizer_fn == \"adam\":\n",
    "        optimizer = tf.train.AdamOptimizer().minimize(loss) \n",
    "    elif optimizer_fn == \"gd\":\n",
    "        optimizer = tf.train.GradientDescentOptimizer().minimize(loss)\n",
    "\n",
    "    session = tf.Session()\n",
    "    init = tf.global_variables_initializer()\n",
    "    session.run(init)\n",
    "\n",
    "    for epoch in range(100):\n",
    "        for i in range(len(X_train)):\n",
    "            _, l = session.run([optimizer, loss], feed_dict={X: X_train[i: i + 1], y: y_train[i: i + 1]})\n",
    "\n",
    "        loss_over_time = np.append(loss_over_time, l)\n",
    "        \n",
    "        train_accuracy = np.mean(np.argmax(y_train, axis=1) == session.run(predict, feed_dict={X: X_train, y: y_train}))\n",
    "        test_accuracy  = np.mean(np.argmax(y_test, axis=1) == session.run(predict, feed_dict={X: X_test, y: y_test}))\n",
    "        print(\"Epoch = %d, train accuracy = %.2f%%, test accuracy = %.2f%%\"\n",
    "              % (epoch + 1, 100. * train_accuracy, 100. * test_accuracy))\n",
    "\n",
    "    weights = session.run(weights)\n",
    "    session.close()\n",
    "    \n",
    "    return loss_over_time, weights"
   ]
  },
  {
   "cell_type": "code",
   "execution_count": 43,
   "metadata": {},
   "outputs": [
    {
     "name": "stdout",
     "output_type": "stream",
     "text": [
      "Epoch = 1, train accuracy = 58.06%, test accuracy = 46.88%\n",
      "Epoch = 2, train accuracy = 58.06%, test accuracy = 46.88%\n",
      "Epoch = 3, train accuracy = 58.06%, test accuracy = 46.88%\n",
      "Epoch = 4, train accuracy = 58.06%, test accuracy = 46.88%\n",
      "Epoch = 5, train accuracy = 58.06%, test accuracy = 46.88%\n",
      "Epoch = 6, train accuracy = 58.06%, test accuracy = 46.88%\n",
      "Epoch = 7, train accuracy = 58.06%, test accuracy = 46.88%\n",
      "Epoch = 8, train accuracy = 58.06%, test accuracy = 46.88%\n",
      "Epoch = 9, train accuracy = 58.06%, test accuracy = 46.88%\n",
      "Epoch = 10, train accuracy = 58.06%, test accuracy = 46.88%\n",
      "Epoch = 11, train accuracy = 58.06%, test accuracy = 46.88%\n",
      "Epoch = 12, train accuracy = 58.06%, test accuracy = 46.88%\n",
      "Epoch = 13, train accuracy = 58.06%, test accuracy = 46.88%\n",
      "Epoch = 14, train accuracy = 58.06%, test accuracy = 46.88%\n",
      "Epoch = 15, train accuracy = 58.06%, test accuracy = 46.88%\n",
      "Epoch = 16, train accuracy = 58.06%, test accuracy = 46.88%\n",
      "Epoch = 17, train accuracy = 58.06%, test accuracy = 46.88%\n",
      "Epoch = 18, train accuracy = 58.06%, test accuracy = 46.88%\n",
      "Epoch = 19, train accuracy = 58.06%, test accuracy = 46.88%\n",
      "Epoch = 20, train accuracy = 58.06%, test accuracy = 46.88%\n",
      "Epoch = 21, train accuracy = 58.06%, test accuracy = 46.88%\n",
      "Epoch = 22, train accuracy = 58.06%, test accuracy = 46.88%\n",
      "Epoch = 23, train accuracy = 58.06%, test accuracy = 46.88%\n",
      "Epoch = 24, train accuracy = 58.06%, test accuracy = 46.88%\n",
      "Epoch = 25, train accuracy = 58.06%, test accuracy = 46.88%\n",
      "Epoch = 26, train accuracy = 58.06%, test accuracy = 46.88%\n",
      "Epoch = 27, train accuracy = 58.06%, test accuracy = 46.88%\n",
      "Epoch = 28, train accuracy = 58.06%, test accuracy = 46.88%\n",
      "Epoch = 29, train accuracy = 58.06%, test accuracy = 46.88%\n",
      "Epoch = 30, train accuracy = 58.06%, test accuracy = 46.88%\n",
      "Epoch = 31, train accuracy = 58.06%, test accuracy = 46.88%\n",
      "Epoch = 32, train accuracy = 58.06%, test accuracy = 46.88%\n",
      "Epoch = 33, train accuracy = 58.06%, test accuracy = 46.88%\n",
      "Epoch = 34, train accuracy = 58.06%, test accuracy = 46.88%\n",
      "Epoch = 35, train accuracy = 58.06%, test accuracy = 46.88%\n",
      "Epoch = 36, train accuracy = 58.06%, test accuracy = 46.88%\n",
      "Epoch = 37, train accuracy = 58.06%, test accuracy = 46.88%\n",
      "Epoch = 38, train accuracy = 58.06%, test accuracy = 46.88%\n",
      "Epoch = 39, train accuracy = 58.06%, test accuracy = 46.88%\n",
      "Epoch = 40, train accuracy = 58.06%, test accuracy = 46.88%\n",
      "Epoch = 41, train accuracy = 58.06%, test accuracy = 46.88%\n",
      "Epoch = 42, train accuracy = 58.06%, test accuracy = 46.88%\n",
      "Epoch = 43, train accuracy = 58.06%, test accuracy = 46.88%\n",
      "Epoch = 44, train accuracy = 58.06%, test accuracy = 46.88%\n",
      "Epoch = 45, train accuracy = 58.06%, test accuracy = 46.88%\n",
      "Epoch = 46, train accuracy = 58.06%, test accuracy = 46.88%\n",
      "Epoch = 47, train accuracy = 58.06%, test accuracy = 46.88%\n",
      "Epoch = 48, train accuracy = 58.06%, test accuracy = 46.88%\n",
      "Epoch = 49, train accuracy = 58.06%, test accuracy = 46.88%\n",
      "Epoch = 50, train accuracy = 58.06%, test accuracy = 46.88%\n",
      "Epoch = 51, train accuracy = 58.06%, test accuracy = 46.88%\n",
      "Epoch = 52, train accuracy = 58.06%, test accuracy = 46.88%\n",
      "Epoch = 53, train accuracy = 58.06%, test accuracy = 46.88%\n",
      "Epoch = 54, train accuracy = 58.06%, test accuracy = 46.88%\n",
      "Epoch = 55, train accuracy = 58.06%, test accuracy = 46.88%\n",
      "Epoch = 56, train accuracy = 58.06%, test accuracy = 46.88%\n",
      "Epoch = 57, train accuracy = 58.06%, test accuracy = 46.88%\n",
      "Epoch = 58, train accuracy = 58.06%, test accuracy = 46.88%\n",
      "Epoch = 59, train accuracy = 58.06%, test accuracy = 46.88%\n",
      "Epoch = 60, train accuracy = 58.06%, test accuracy = 46.88%\n",
      "Epoch = 61, train accuracy = 58.06%, test accuracy = 46.88%\n",
      "Epoch = 62, train accuracy = 58.06%, test accuracy = 46.88%\n",
      "Epoch = 63, train accuracy = 58.06%, test accuracy = 46.88%\n",
      "Epoch = 64, train accuracy = 58.06%, test accuracy = 46.88%\n",
      "Epoch = 65, train accuracy = 58.06%, test accuracy = 46.88%\n",
      "Epoch = 66, train accuracy = 58.06%, test accuracy = 46.88%\n",
      "Epoch = 67, train accuracy = 58.06%, test accuracy = 46.88%\n",
      "Epoch = 68, train accuracy = 58.06%, test accuracy = 46.88%\n",
      "Epoch = 69, train accuracy = 58.06%, test accuracy = 46.88%\n",
      "Epoch = 70, train accuracy = 58.06%, test accuracy = 46.88%\n",
      "Epoch = 71, train accuracy = 58.06%, test accuracy = 46.88%\n",
      "Epoch = 72, train accuracy = 58.06%, test accuracy = 46.88%\n",
      "Epoch = 73, train accuracy = 58.06%, test accuracy = 46.88%\n",
      "Epoch = 74, train accuracy = 58.06%, test accuracy = 46.88%\n",
      "Epoch = 75, train accuracy = 58.06%, test accuracy = 46.88%\n",
      "Epoch = 76, train accuracy = 58.06%, test accuracy = 46.88%\n",
      "Epoch = 77, train accuracy = 58.06%, test accuracy = 46.88%\n",
      "Epoch = 78, train accuracy = 58.06%, test accuracy = 46.88%\n",
      "Epoch = 79, train accuracy = 58.06%, test accuracy = 46.88%\n",
      "Epoch = 80, train accuracy = 58.06%, test accuracy = 46.88%\n",
      "Epoch = 81, train accuracy = 58.06%, test accuracy = 46.88%\n",
      "Epoch = 82, train accuracy = 58.06%, test accuracy = 46.88%\n",
      "Epoch = 83, train accuracy = 58.06%, test accuracy = 46.88%\n",
      "Epoch = 84, train accuracy = 58.06%, test accuracy = 46.88%\n",
      "Epoch = 85, train accuracy = 58.06%, test accuracy = 46.88%\n",
      "Epoch = 86, train accuracy = 58.06%, test accuracy = 46.88%\n",
      "Epoch = 87, train accuracy = 58.06%, test accuracy = 46.88%\n",
      "Epoch = 88, train accuracy = 58.06%, test accuracy = 46.88%\n",
      "Epoch = 89, train accuracy = 58.06%, test accuracy = 46.88%\n",
      "Epoch = 90, train accuracy = 58.06%, test accuracy = 46.88%\n",
      "Epoch = 91, train accuracy = 58.06%, test accuracy = 46.88%\n",
      "Epoch = 92, train accuracy = 58.06%, test accuracy = 46.88%\n",
      "Epoch = 93, train accuracy = 58.06%, test accuracy = 46.88%\n",
      "Epoch = 94, train accuracy = 58.06%, test accuracy = 46.88%\n",
      "Epoch = 95, train accuracy = 58.06%, test accuracy = 46.88%\n",
      "Epoch = 96, train accuracy = 58.06%, test accuracy = 46.88%\n",
      "Epoch = 97, train accuracy = 58.06%, test accuracy = 46.88%\n",
      "Epoch = 98, train accuracy = 58.06%, test accuracy = 46.88%\n",
      "Epoch = 99, train accuracy = 58.06%, test accuracy = 46.88%\n",
      "Epoch = 100, train accuracy = 58.06%, test accuracy = 46.88%\n"
     ]
    }
   ],
   "source": [
    "momentum_loss, momentum_weight = main(\"momentum\")"
   ]
  },
  {
   "cell_type": "code",
   "execution_count": 42,
   "metadata": {},
   "outputs": [
    {
     "name": "stdout",
     "output_type": "stream",
     "text": [
      "Epoch = 1, train accuracy = 58.06%, test accuracy = 46.88%\n",
      "Epoch = 2, train accuracy = 58.06%, test accuracy = 46.88%\n",
      "Epoch = 3, train accuracy = 58.06%, test accuracy = 46.88%\n",
      "Epoch = 4, train accuracy = 58.06%, test accuracy = 46.88%\n",
      "Epoch = 5, train accuracy = 58.06%, test accuracy = 46.88%\n",
      "Epoch = 6, train accuracy = 58.06%, test accuracy = 46.88%\n",
      "Epoch = 7, train accuracy = 58.06%, test accuracy = 46.88%\n",
      "Epoch = 8, train accuracy = 58.06%, test accuracy = 46.88%\n",
      "Epoch = 9, train accuracy = 58.06%, test accuracy = 46.88%\n",
      "Epoch = 10, train accuracy = 58.06%, test accuracy = 46.88%\n",
      "Epoch = 11, train accuracy = 58.06%, test accuracy = 46.88%\n",
      "Epoch = 12, train accuracy = 58.06%, test accuracy = 46.88%\n",
      "Epoch = 13, train accuracy = 58.06%, test accuracy = 46.88%\n",
      "Epoch = 14, train accuracy = 58.06%, test accuracy = 46.88%\n",
      "Epoch = 15, train accuracy = 58.06%, test accuracy = 46.88%\n",
      "Epoch = 16, train accuracy = 58.06%, test accuracy = 46.88%\n",
      "Epoch = 17, train accuracy = 58.06%, test accuracy = 46.88%\n",
      "Epoch = 18, train accuracy = 58.06%, test accuracy = 46.88%\n",
      "Epoch = 19, train accuracy = 58.06%, test accuracy = 46.88%\n",
      "Epoch = 20, train accuracy = 58.06%, test accuracy = 46.88%\n",
      "Epoch = 21, train accuracy = 58.06%, test accuracy = 46.88%\n",
      "Epoch = 22, train accuracy = 58.06%, test accuracy = 46.88%\n",
      "Epoch = 23, train accuracy = 58.06%, test accuracy = 46.88%\n",
      "Epoch = 24, train accuracy = 58.06%, test accuracy = 46.88%\n",
      "Epoch = 25, train accuracy = 58.06%, test accuracy = 46.88%\n",
      "Epoch = 26, train accuracy = 58.06%, test accuracy = 46.88%\n",
      "Epoch = 27, train accuracy = 58.06%, test accuracy = 46.88%\n",
      "Epoch = 28, train accuracy = 58.06%, test accuracy = 46.88%\n",
      "Epoch = 29, train accuracy = 58.06%, test accuracy = 46.88%\n",
      "Epoch = 30, train accuracy = 58.06%, test accuracy = 46.88%\n",
      "Epoch = 31, train accuracy = 58.06%, test accuracy = 46.88%\n",
      "Epoch = 32, train accuracy = 58.06%, test accuracy = 46.88%\n",
      "Epoch = 33, train accuracy = 58.06%, test accuracy = 46.88%\n",
      "Epoch = 34, train accuracy = 58.06%, test accuracy = 46.88%\n",
      "Epoch = 35, train accuracy = 58.06%, test accuracy = 46.88%\n",
      "Epoch = 36, train accuracy = 58.06%, test accuracy = 46.88%\n",
      "Epoch = 37, train accuracy = 58.06%, test accuracy = 46.88%\n",
      "Epoch = 38, train accuracy = 58.06%, test accuracy = 46.88%\n",
      "Epoch = 39, train accuracy = 58.06%, test accuracy = 46.88%\n",
      "Epoch = 40, train accuracy = 58.06%, test accuracy = 46.88%\n",
      "Epoch = 41, train accuracy = 58.06%, test accuracy = 46.88%\n",
      "Epoch = 42, train accuracy = 58.06%, test accuracy = 46.88%\n",
      "Epoch = 43, train accuracy = 58.06%, test accuracy = 46.88%\n",
      "Epoch = 44, train accuracy = 58.06%, test accuracy = 46.88%\n",
      "Epoch = 45, train accuracy = 58.06%, test accuracy = 46.88%\n",
      "Epoch = 46, train accuracy = 58.06%, test accuracy = 46.88%\n",
      "Epoch = 47, train accuracy = 58.06%, test accuracy = 46.88%\n",
      "Epoch = 48, train accuracy = 58.06%, test accuracy = 46.88%\n",
      "Epoch = 49, train accuracy = 58.06%, test accuracy = 46.88%\n",
      "Epoch = 50, train accuracy = 58.06%, test accuracy = 46.88%\n",
      "Epoch = 51, train accuracy = 58.06%, test accuracy = 46.88%\n",
      "Epoch = 52, train accuracy = 58.06%, test accuracy = 46.88%\n",
      "Epoch = 53, train accuracy = 58.06%, test accuracy = 46.88%\n",
      "Epoch = 54, train accuracy = 58.06%, test accuracy = 46.88%\n",
      "Epoch = 55, train accuracy = 58.06%, test accuracy = 46.88%\n",
      "Epoch = 56, train accuracy = 58.06%, test accuracy = 46.88%\n",
      "Epoch = 57, train accuracy = 58.06%, test accuracy = 46.88%\n",
      "Epoch = 58, train accuracy = 58.06%, test accuracy = 46.88%\n",
      "Epoch = 59, train accuracy = 58.06%, test accuracy = 46.88%\n",
      "Epoch = 60, train accuracy = 58.06%, test accuracy = 46.88%\n",
      "Epoch = 61, train accuracy = 58.06%, test accuracy = 46.88%\n",
      "Epoch = 62, train accuracy = 58.06%, test accuracy = 46.88%\n",
      "Epoch = 63, train accuracy = 58.06%, test accuracy = 46.88%\n",
      "Epoch = 64, train accuracy = 58.06%, test accuracy = 46.88%\n",
      "Epoch = 65, train accuracy = 58.06%, test accuracy = 46.88%\n",
      "Epoch = 66, train accuracy = 58.06%, test accuracy = 46.88%\n",
      "Epoch = 67, train accuracy = 58.06%, test accuracy = 46.88%\n",
      "Epoch = 68, train accuracy = 58.06%, test accuracy = 46.88%\n",
      "Epoch = 69, train accuracy = 58.06%, test accuracy = 46.88%\n",
      "Epoch = 70, train accuracy = 58.06%, test accuracy = 46.88%\n",
      "Epoch = 71, train accuracy = 58.06%, test accuracy = 46.88%\n",
      "Epoch = 72, train accuracy = 58.06%, test accuracy = 46.88%\n",
      "Epoch = 73, train accuracy = 58.06%, test accuracy = 46.88%\n",
      "Epoch = 74, train accuracy = 58.06%, test accuracy = 46.88%\n",
      "Epoch = 75, train accuracy = 58.06%, test accuracy = 46.88%\n",
      "Epoch = 76, train accuracy = 58.06%, test accuracy = 46.88%\n",
      "Epoch = 77, train accuracy = 58.06%, test accuracy = 46.88%\n",
      "Epoch = 78, train accuracy = 58.06%, test accuracy = 46.88%\n",
      "Epoch = 79, train accuracy = 58.06%, test accuracy = 46.88%\n",
      "Epoch = 80, train accuracy = 58.06%, test accuracy = 46.88%\n",
      "Epoch = 81, train accuracy = 58.06%, test accuracy = 46.88%\n",
      "Epoch = 82, train accuracy = 58.06%, test accuracy = 46.88%\n",
      "Epoch = 83, train accuracy = 58.06%, test accuracy = 46.88%\n",
      "Epoch = 84, train accuracy = 58.06%, test accuracy = 46.88%\n",
      "Epoch = 85, train accuracy = 58.06%, test accuracy = 46.88%\n",
      "Epoch = 86, train accuracy = 58.06%, test accuracy = 46.88%\n",
      "Epoch = 87, train accuracy = 58.06%, test accuracy = 46.88%\n",
      "Epoch = 88, train accuracy = 58.06%, test accuracy = 46.88%\n",
      "Epoch = 89, train accuracy = 58.06%, test accuracy = 46.88%\n",
      "Epoch = 90, train accuracy = 58.06%, test accuracy = 46.88%\n",
      "Epoch = 91, train accuracy = 58.06%, test accuracy = 46.88%\n",
      "Epoch = 92, train accuracy = 58.06%, test accuracy = 46.88%\n",
      "Epoch = 93, train accuracy = 58.06%, test accuracy = 46.88%\n",
      "Epoch = 94, train accuracy = 58.06%, test accuracy = 46.88%\n",
      "Epoch = 95, train accuracy = 58.06%, test accuracy = 46.88%\n",
      "Epoch = 96, train accuracy = 58.06%, test accuracy = 46.88%\n",
      "Epoch = 97, train accuracy = 58.06%, test accuracy = 46.88%\n",
      "Epoch = 98, train accuracy = 58.06%, test accuracy = 46.88%\n",
      "Epoch = 99, train accuracy = 58.06%, test accuracy = 46.88%\n",
      "Epoch = 100, train accuracy = 58.06%, test accuracy = 46.88%\n"
     ]
    }
   ],
   "source": [
    "rmsprop_loss, rmsprop_weight = main(\"rmsprop\")"
   ]
  },
  {
   "cell_type": "code",
   "execution_count": 44,
   "metadata": {},
   "outputs": [
    {
     "name": "stdout",
     "output_type": "stream",
     "text": [
      "Epoch = 1, train accuracy = 58.06%, test accuracy = 46.88%\n",
      "Epoch = 2, train accuracy = 58.06%, test accuracy = 46.88%\n",
      "Epoch = 3, train accuracy = 58.06%, test accuracy = 46.88%\n",
      "Epoch = 4, train accuracy = 58.06%, test accuracy = 46.88%\n",
      "Epoch = 5, train accuracy = 58.06%, test accuracy = 46.88%\n",
      "Epoch = 6, train accuracy = 58.06%, test accuracy = 46.88%\n",
      "Epoch = 7, train accuracy = 58.06%, test accuracy = 46.88%\n",
      "Epoch = 8, train accuracy = 58.06%, test accuracy = 46.88%\n",
      "Epoch = 9, train accuracy = 58.06%, test accuracy = 46.88%\n",
      "Epoch = 10, train accuracy = 58.06%, test accuracy = 46.88%\n",
      "Epoch = 11, train accuracy = 58.06%, test accuracy = 46.88%\n",
      "Epoch = 12, train accuracy = 58.06%, test accuracy = 46.88%\n",
      "Epoch = 13, train accuracy = 58.06%, test accuracy = 46.88%\n",
      "Epoch = 14, train accuracy = 58.06%, test accuracy = 46.88%\n",
      "Epoch = 15, train accuracy = 58.06%, test accuracy = 46.88%\n",
      "Epoch = 16, train accuracy = 58.06%, test accuracy = 46.88%\n",
      "Epoch = 17, train accuracy = 58.06%, test accuracy = 46.88%\n",
      "Epoch = 18, train accuracy = 58.06%, test accuracy = 46.88%\n",
      "Epoch = 19, train accuracy = 58.06%, test accuracy = 46.88%\n",
      "Epoch = 20, train accuracy = 58.06%, test accuracy = 46.88%\n",
      "Epoch = 21, train accuracy = 58.06%, test accuracy = 46.88%\n",
      "Epoch = 22, train accuracy = 58.06%, test accuracy = 46.88%\n",
      "Epoch = 23, train accuracy = 58.06%, test accuracy = 46.88%\n",
      "Epoch = 24, train accuracy = 58.06%, test accuracy = 46.88%\n",
      "Epoch = 25, train accuracy = 58.06%, test accuracy = 46.88%\n",
      "Epoch = 26, train accuracy = 58.06%, test accuracy = 46.88%\n",
      "Epoch = 27, train accuracy = 58.06%, test accuracy = 46.88%\n",
      "Epoch = 28, train accuracy = 58.06%, test accuracy = 46.88%\n",
      "Epoch = 29, train accuracy = 58.06%, test accuracy = 46.88%\n",
      "Epoch = 30, train accuracy = 58.06%, test accuracy = 46.88%\n",
      "Epoch = 31, train accuracy = 58.06%, test accuracy = 46.88%\n",
      "Epoch = 32, train accuracy = 58.06%, test accuracy = 46.88%\n",
      "Epoch = 33, train accuracy = 58.06%, test accuracy = 46.88%\n",
      "Epoch = 34, train accuracy = 58.06%, test accuracy = 46.88%\n",
      "Epoch = 35, train accuracy = 58.06%, test accuracy = 46.88%\n",
      "Epoch = 36, train accuracy = 58.06%, test accuracy = 46.88%\n",
      "Epoch = 37, train accuracy = 58.06%, test accuracy = 46.88%\n",
      "Epoch = 38, train accuracy = 58.06%, test accuracy = 46.88%\n",
      "Epoch = 39, train accuracy = 58.06%, test accuracy = 46.88%\n",
      "Epoch = 40, train accuracy = 58.06%, test accuracy = 46.88%\n",
      "Epoch = 41, train accuracy = 58.06%, test accuracy = 46.88%\n",
      "Epoch = 42, train accuracy = 58.06%, test accuracy = 46.88%\n",
      "Epoch = 43, train accuracy = 58.06%, test accuracy = 46.88%\n",
      "Epoch = 44, train accuracy = 58.06%, test accuracy = 46.88%\n",
      "Epoch = 45, train accuracy = 58.06%, test accuracy = 46.88%\n",
      "Epoch = 46, train accuracy = 58.06%, test accuracy = 46.88%\n",
      "Epoch = 47, train accuracy = 58.06%, test accuracy = 46.88%\n",
      "Epoch = 48, train accuracy = 58.06%, test accuracy = 46.88%\n",
      "Epoch = 49, train accuracy = 58.06%, test accuracy = 46.88%\n",
      "Epoch = 50, train accuracy = 58.06%, test accuracy = 46.88%\n",
      "Epoch = 51, train accuracy = 58.06%, test accuracy = 46.88%\n",
      "Epoch = 52, train accuracy = 58.06%, test accuracy = 46.88%\n",
      "Epoch = 53, train accuracy = 58.06%, test accuracy = 46.88%\n",
      "Epoch = 54, train accuracy = 58.06%, test accuracy = 46.88%\n",
      "Epoch = 55, train accuracy = 58.06%, test accuracy = 46.88%\n",
      "Epoch = 56, train accuracy = 58.06%, test accuracy = 46.88%\n",
      "Epoch = 57, train accuracy = 58.06%, test accuracy = 46.88%\n",
      "Epoch = 58, train accuracy = 58.06%, test accuracy = 46.88%\n",
      "Epoch = 59, train accuracy = 58.06%, test accuracy = 46.88%\n",
      "Epoch = 60, train accuracy = 58.06%, test accuracy = 46.88%\n",
      "Epoch = 61, train accuracy = 58.06%, test accuracy = 46.88%\n",
      "Epoch = 62, train accuracy = 58.06%, test accuracy = 46.88%\n",
      "Epoch = 63, train accuracy = 58.06%, test accuracy = 46.88%\n",
      "Epoch = 64, train accuracy = 58.06%, test accuracy = 46.88%\n",
      "Epoch = 65, train accuracy = 58.06%, test accuracy = 46.88%\n",
      "Epoch = 66, train accuracy = 58.06%, test accuracy = 46.88%\n",
      "Epoch = 67, train accuracy = 58.06%, test accuracy = 46.88%\n",
      "Epoch = 68, train accuracy = 58.06%, test accuracy = 46.88%\n",
      "Epoch = 69, train accuracy = 58.06%, test accuracy = 46.88%\n",
      "Epoch = 70, train accuracy = 58.06%, test accuracy = 46.88%\n",
      "Epoch = 71, train accuracy = 58.06%, test accuracy = 46.88%\n",
      "Epoch = 72, train accuracy = 58.06%, test accuracy = 46.88%\n",
      "Epoch = 73, train accuracy = 58.06%, test accuracy = 46.88%\n",
      "Epoch = 74, train accuracy = 58.06%, test accuracy = 46.88%\n",
      "Epoch = 75, train accuracy = 58.06%, test accuracy = 46.88%\n",
      "Epoch = 76, train accuracy = 58.06%, test accuracy = 46.88%\n",
      "Epoch = 77, train accuracy = 58.06%, test accuracy = 46.88%\n",
      "Epoch = 78, train accuracy = 58.06%, test accuracy = 46.88%\n",
      "Epoch = 79, train accuracy = 58.06%, test accuracy = 46.88%\n",
      "Epoch = 80, train accuracy = 58.06%, test accuracy = 46.88%\n",
      "Epoch = 81, train accuracy = 58.06%, test accuracy = 46.88%\n",
      "Epoch = 82, train accuracy = 58.06%, test accuracy = 46.88%\n",
      "Epoch = 83, train accuracy = 58.06%, test accuracy = 46.88%\n",
      "Epoch = 84, train accuracy = 58.06%, test accuracy = 46.88%\n",
      "Epoch = 85, train accuracy = 58.06%, test accuracy = 46.88%\n",
      "Epoch = 86, train accuracy = 58.06%, test accuracy = 46.88%\n",
      "Epoch = 87, train accuracy = 58.06%, test accuracy = 46.88%\n",
      "Epoch = 88, train accuracy = 58.06%, test accuracy = 46.88%\n",
      "Epoch = 89, train accuracy = 58.06%, test accuracy = 46.88%\n",
      "Epoch = 90, train accuracy = 58.06%, test accuracy = 46.88%\n",
      "Epoch = 91, train accuracy = 58.06%, test accuracy = 46.88%\n",
      "Epoch = 92, train accuracy = 58.06%, test accuracy = 46.88%\n",
      "Epoch = 93, train accuracy = 58.06%, test accuracy = 46.88%\n",
      "Epoch = 94, train accuracy = 58.06%, test accuracy = 46.88%\n",
      "Epoch = 95, train accuracy = 58.06%, test accuracy = 46.88%\n",
      "Epoch = 96, train accuracy = 58.06%, test accuracy = 46.88%\n",
      "Epoch = 97, train accuracy = 58.06%, test accuracy = 46.88%\n",
      "Epoch = 98, train accuracy = 58.06%, test accuracy = 46.88%\n",
      "Epoch = 99, train accuracy = 58.06%, test accuracy = 46.88%\n",
      "Epoch = 100, train accuracy = 58.06%, test accuracy = 46.88%\n"
     ]
    }
   ],
   "source": [
    "adam_loss, adam_weight = main(\"adam\")"
   ]
  },
  {
   "cell_type": "markdown",
   "metadata": {},
   "source": [
    "In a 2 layer neural network, all three optimizers, namely momentum, rmsprop, and adam, produced the same test accuracy of 46.88 which did not increase over the epoch iterations. As also shown in the graph above, all three optimizers achieved lower loss very quickly. Based on these results, we can clearly see that a 2 layer neural network is not an appropriate model for classifying our dataset."
   ]
  },
  {
   "cell_type": "markdown",
   "metadata": {},
   "source": [
    "<b>Summary and Analysis</b>\n",
    "\n",
    "In this sections, we will tabulate all the results and compare them to find the most accurate model for predicting popular songs based on the given audio features."
   ]
  },
  {
   "cell_type": "markdown",
   "metadata": {},
   "source": [
    "<table>\n",
    "  <tr>\n",
    "    <th>Model</th>\n",
    "    <th>Accuracy Score</th> \n",
    "    <th>F1 Score</th>\n",
    "    <th>Recall Score</th>\n",
    "    <th>AUC Score</th>\n",
    "  </tr>\n",
    "  <tr>\n",
    "    <td>Decision Tree</td>\n",
    "    <td>0.5414</td> \n",
    "    <td>0.4</td> \n",
    "    <td>0.5714</td> \n",
    "    <td>0.5210</td> \n",
    "  </tr>\n",
    "  <tr>\n",
    "    <td>Naive Bayes</td>\n",
    "    <td>0.5535</td>\n",
    "    <td>0.375</td> \n",
    "    <td>0.3333</td> \n",
    "    <td>0.5333</td> \n",
    "  </tr>\n",
    "  <tr>\n",
    "    <td>Neural Network</td>\n",
    "    <td>0.4688</td>\n",
    "    <td></td> \n",
    "    <td></td> \n",
    "    <td></td> \n",
    "  </tr>\n",
    "</table>"
   ]
  }
 ],
 "metadata": {
  "kernelspec": {
   "display_name": "Python 3",
   "language": "python",
   "name": "python3"
  },
  "language_info": {
   "codemirror_mode": {
    "name": "ipython",
    "version": 3
   },
   "file_extension": ".py",
   "mimetype": "text/x-python",
   "name": "python",
   "nbconvert_exporter": "python",
   "pygments_lexer": "ipython3",
   "version": "3.6.3"
  }
 },
 "nbformat": 4,
 "nbformat_minor": 2
}
